{
 "cells": [
  {
   "cell_type": "markdown",
   "id": "ee715213",
   "metadata": {},
   "source": [
    "## Imports"
   ]
  },
  {
   "cell_type": "code",
   "execution_count": 1,
   "id": "fda6dba4",
   "metadata": {},
   "outputs": [],
   "source": [
    "import math\n",
    "from src.model_evaluation import load_model, evaluate_model, generate_text\n",
    "from src.model_training import RNNLanguageModel, LSTMLanguageModel\n",
    "import numpy as np\n",
    "import os\n",
    "import pickle\n",
    "import random\n",
    "import torch\n",
    "import torch.nn as nn"
   ]
  },
  {
   "cell_type": "markdown",
   "id": "c7eaec17",
   "metadata": {},
   "source": [
    "## Setup"
   ]
  },
  {
   "cell_type": "code",
   "execution_count": 2,
   "id": "c53afb55",
   "metadata": {},
   "outputs": [],
   "source": [
    "# Device agnostic code\n",
    "device = torch.device(\"cuda\" if torch.cuda.is_available() else \"cpu\")\n",
    "\n",
    "# Set seeds\n",
    "seed = 42\n",
    "torch.manual_seed(seed)\n",
    "torch.cuda.manual_seed(seed)\n",
    "torch.cuda.manual_seed_all(seed)\n",
    "torch.backends.cudnn.deterministic = True\n",
    "torch.backends.cudnn.benchmark = False\n",
    "torch.backends.cudnn.enabled = False\n",
    "random.seed(seed)\n",
    "np.random.seed(seed)"
   ]
  },
  {
   "cell_type": "markdown",
   "id": "9d781bbf",
   "metadata": {},
   "source": [
    "## Load Data"
   ]
  },
  {
   "cell_type": "code",
   "execution_count": 3,
   "id": "d3d0cd57",
   "metadata": {},
   "outputs": [],
   "source": [
    "with open(os.path.normpath(os.path.join(\"data\", \"word_tokenisation_reuters_data.pkl\")), \"rb\") as f:\n",
    "    word_tokenised_numericalised_docs = pickle.load(f)\n",
    "\n",
    "with open(os.path.normpath(os.path.join(\"data\", \"word_tokenisation_reuters_train_vocab.pkl\")), \"rb\") as f:\n",
    "    word_tokenisation_train_vocab = pickle.load(f)\n",
    "\n",
    "with open(os.path.normpath(os.path.join(\"data\", \"subword_tokenisation_reuters_data.pkl\")), \"rb\") as f:\n",
    "    subword_tokenised_numericalised_docs = pickle.load(f)\n",
    "\n",
    "with open(os.path.normpath(os.path.join(\"data\", \"subword_tokenisation_reuters_train_vocab.pkl\")), \"rb\") as f:\n",
    "    subword_tokenisation_train_vocab = pickle.load(f)"
   ]
  },
  {
   "cell_type": "markdown",
   "id": "de3cd6d5",
   "metadata": {},
   "source": [
    "## Set Hyperparameters"
   ]
  },
  {
   "cell_type": "code",
   "execution_count": 4,
   "id": "a4bc9f95",
   "metadata": {},
   "outputs": [],
   "source": [
    "EMBEDDING_SIZE = 128\n",
    "HIDDEN_SIZE = 256\n",
    "NUM_LAYERS = 2\n",
    "SEQUENCE_LENGTH = 32\n",
    "BATCH_SIZE = 32"
   ]
  },
  {
   "cell_type": "markdown",
   "id": "a5666e8f",
   "metadata": {},
   "source": [
    "## RNN"
   ]
  },
  {
   "cell_type": "markdown",
   "id": "f5805cb3",
   "metadata": {},
   "source": [
    "### Word Tokenisation, Dropout = 0.0"
   ]
  },
  {
   "cell_type": "code",
   "execution_count": 5,
   "id": "d5c1ca30",
   "metadata": {},
   "outputs": [],
   "source": [
    "# Initialise model\n",
    "rnn = RNNLanguageModel(\n",
    "    vocab_size=len(word_tokenisation_train_vocab),\n",
    "    embed_size=EMBEDDING_SIZE,\n",
    "    hidden_size=HIDDEN_SIZE,\n",
    "    num_layers=NUM_LAYERS,\n",
    "    dropout=0.0,\n",
    "    pad_idx=word_tokenisation_train_vocab[\"<pad>\"]\n",
    ").to(device)\n",
    "\n",
    "rnn_word_tokenised_dropout_0_filename = \"model_weights_rnn_word_tokens_True_dropout_0.0_20250905-091637\"\n",
    "\n",
    "rnn_word_tokenised_dropout_0 = load_model(model_initialised=rnn, filename=rnn_word_tokenised_dropout_0_filename, device=device)"
   ]
  },
  {
   "cell_type": "code",
   "execution_count": 6,
   "id": "f8613100",
   "metadata": {},
   "outputs": [
    {
     "name": "stderr",
     "output_type": "stream",
     "text": [
      "100%|██████████| 1073/1073 [01:22<00:00, 13.00it/s]\n"
     ]
    },
    {
     "name": "stdout",
     "output_type": "stream",
     "text": [
      "Cross Entropy Loss: 10.025398466093787\n",
      "Perplexity: 22593.069209792488\n"
     ]
    }
   ],
   "source": [
    "# Cross Entropy Loss\n",
    "rnn_word_tokenised_dropout_0_cross_entropy_loss = evaluate_model(\n",
    "    model=rnn_word_tokenised_dropout_0,\n",
    "    converted_tokenised_docs=word_tokenised_numericalised_docs,\n",
    "    seq_len=SEQUENCE_LENGTH,\n",
    "    batch_size=BATCH_SIZE,\n",
    "    criterion=nn.CrossEntropyLoss(ignore_index=word_tokenisation_train_vocab[\"<pad>\"]),\n",
    "    device=device,\n",
    "    vocab_size=len(word_tokenisation_train_vocab)\n",
    ")\n",
    "print(f\"Cross Entropy Loss: {rnn_word_tokenised_dropout_0_cross_entropy_loss}\")\n",
    "\n",
    "# Perplexity\n",
    "rnn_word_tokenised_dropout_0_perplexity = math.exp(rnn_word_tokenised_dropout_0_cross_entropy_loss)\n",
    "print(f\"Perplexity: {rnn_word_tokenised_dropout_0_perplexity}\")"
   ]
  },
  {
   "cell_type": "code",
   "execution_count": 7,
   "id": "23963e99",
   "metadata": {},
   "outputs": [
    {
     "name": "stderr",
     "output_type": "stream",
     "text": [
      "100%|██████████| 300/300 [00:02<00:00, 133.47it/s]\n"
     ]
    },
    {
     "name": "stdout",
     "output_type": "stream",
     "text": [
      "Generated Sequence from ['Today'] with temperature 0.7:\n",
      "Today . clark said that if the slow fell for 97 . 6 . 3 billion vs 122 . 3 billion deposits 22 . 01 domes use 24 shr 33 cts vs 18 cts net 220 , 000 vs 1 , 250 , 000 assets 1 . 09 billion vs 861 . 2 mln deposits 817 . 7 mlnvs 705 . 7 mln loans 704 . 1 mln vs 553 . 4 mln nine mths shr 1 . 67 dlrs vs 2 . 30 dlrs net 34 . 0 mln vs 34 . 6 mln assets 2 . 7 billion vs 21 . 3 billion note 1987 qtr and nine mths includes gain 6 , 016 , 000 dlrs and 18 . 7 mln dlrs , or 56 cts a share vs 6 . 10 mln last month . e . c . 1986/87 coarse grain production is projected at 81 . 22 mln tonnes , vs 81 . 19 mln tonnes last month . the department said the provision for loan capital , unchanged from operating and alloy , in which societe generale de belgique &lt belb . br> holds an indirect 52 pct stake , said a sharp at 100 pct of the group of other milds coffee-growing nations will hold talks in guatemala next month to map their strategy for next september ' s meeting of the international coffee organisation ( ico ) . mario fernandez , executive director of the costa rican coffee institute , said delegates from mexico , the dominican republic , peru , ecuador , india , papua new guinea and five central american nations will participate in the two-day strategy session beginning as on items to take an necessary tender over gillette in the gulf and legal and . . . we would\n",
      "\n"
     ]
    },
    {
     "name": "stderr",
     "output_type": "stream",
     "text": [
      "100%|██████████| 300/300 [00:01<00:00, 155.28it/s]\n"
     ]
    },
    {
     "name": "stdout",
     "output_type": "stream",
     "text": [
      "Generated Sequence from ['Today'] with temperature 1.0:\n",
      "Today rejected its offer to only a minimum record date on a positive brokerage firm ships had been the spread . these ships were made if dome ends worries into the two monetary course , vice-president helmut schlesinger told reuters in the june m-1 the measures will affect us to prevent them from technological force to be a u . s . agriculture secretary richard lyng , who spoke the weekly national production in june , it said . there is no in paris recently , is conditioned on receipt of at least exports above the five billion dlrs of 182-day bills were priced at an average 96 . 488 dlrs against 96 , 000 tonnes of output ( fabk ) , ) from edmonton/swann hills 1 , 111 , 000 ) , analysts said . in state minerals , who get a net 1 . 2 mln units ( 50 mln barrels on march 16 central note port yesterday ' s issued of the company . according to its u . s . video vending shares . pursuant to the transaction , harvey seslowsky and william hodes resigned from 12 mln ordinary per cent . the fed said that april 27 he aiming for greater first quarter . bank said he had anticipated production reserves tender for total and maintenance businesses . offshore businesses is expected to total 200 . 8 mln dlrs . for 1986 , permits was issued after the june 30 . peerless had expected figures in the price of year including shr two cts a barrel won the 1986 of the equivalent , or 28 . 1 pct , had asked many distributed ltd> at 1 . 81 marks per day . as previously reported , etl a 39 pct interest in the technical and judicial\n",
      "\n"
     ]
    },
    {
     "name": "stderr",
     "output_type": "stream",
     "text": [
      "100%|██████████| 300/300 [00:02<00:00, 143.82it/s]"
     ]
    },
    {
     "name": "stdout",
     "output_type": "stream",
     "text": [
      "Generated Sequence from ['Today'] with temperature 1.3:\n",
      "Today for protection in the legal and marketing economic growth would become large at another 50 , effective yesterday . the increase brings conoco rose a 0 . 5 pct stake in scandinavia fund first boston ltd ( 25 , 000 tonnes of the week involved from first tuskaloosa . the company said consumer prices full 12 mln from the 96 mln shares of &lt banque industrielle et mobiliere privee> ( bimp ) ' s remarks an average of holdings from 50 dlrs per share of southmark said it planned to sell its tire business to the amended offer market which would reduce competition , all ec officials have entered , several special zealand ltd , said monsanto in u . k . september m3 rises 0 . 8 nil nil o . o . p . -d 25 . 0 e . the housing group dropped 33 . 9 mln vs 78 . 9 mln nine mths shr 1 . 96 dlrs vs 1 . 23 dlrs net 6 , 240 , 939 dlrs vs 989 , 714 dlrs revs 32 . 9 mln vs 13 . 1 mln . after charge-offs of japan governor satoshi sumita told a press conference following the bank of italy ' s fair , which makes gilbey ' s gin and vodka , old grandad and old crow whiskey , is not unreasonable more than finance investment in the week that may be taken into account when considering recent one u . s . cattle to japan . the offer , which have said quality other weeks distributor union in the past year . april 27 , canada ' s seven won should be interests out soon and add to limited 500 and drain money and personal computing corp , headed for existing banks\n",
      "\n"
     ]
    },
    {
     "name": "stderr",
     "output_type": "stream",
     "text": [
      "\n"
     ]
    }
   ],
   "source": [
    "# Generate text\n",
    "starting_sequence = [\"Today\"]\n",
    "temperatures = [0.7, 1.0, 1.3]\n",
    "\n",
    "for temperature in temperatures:\n",
    "    rnn_word_tokenised_dropout_0_generated_sequence = generate_text(\n",
    "        model=rnn_word_tokenised_dropout_0,\n",
    "        train_vocab=word_tokenisation_train_vocab,\n",
    "        start_seq=starting_sequence,\n",
    "        temperature=temperature\n",
    "    )\n",
    "    print(f\"Generated Sequence from {starting_sequence} with temperature {temperature}:\")\n",
    "    print(rnn_word_tokenised_dropout_0_generated_sequence)\n",
    "    print()"
   ]
  },
  {
   "cell_type": "markdown",
   "id": "68565712",
   "metadata": {},
   "source": [
    "### Word Tokenisation, Dropout = 0.2"
   ]
  },
  {
   "cell_type": "code",
   "execution_count": 8,
   "id": "2a3f5931",
   "metadata": {},
   "outputs": [],
   "source": [
    "# Initialise model\n",
    "rnn = RNNLanguageModel(\n",
    "    vocab_size=len(word_tokenisation_train_vocab),\n",
    "    embed_size=EMBEDDING_SIZE,\n",
    "    hidden_size=HIDDEN_SIZE,\n",
    "    num_layers=NUM_LAYERS,\n",
    "    dropout=0.2,\n",
    "    pad_idx=word_tokenisation_train_vocab[\"<pad>\"]\n",
    ").to(device)\n",
    "\n",
    "rnn_word_tokenised_dropout_02_filename = \"model_weights_rnn_word_tokens_True_dropout_0.2_20250906-065216\"\n",
    "\n",
    "rnn_word_tokenised_dropout_02 = load_model(model_initialised=rnn, filename=rnn_word_tokenised_dropout_02_filename, device=device)"
   ]
  },
  {
   "cell_type": "code",
   "execution_count": 9,
   "id": "f210f265",
   "metadata": {},
   "outputs": [
    {
     "name": "stderr",
     "output_type": "stream",
     "text": [
      "100%|██████████| 1073/1073 [02:01<00:00,  8.83it/s]\n"
     ]
    },
    {
     "name": "stdout",
     "output_type": "stream",
     "text": [
      "Cross Entropy Loss: 8.077124800397653\n",
      "Perplexity: 3219.9618814122496\n"
     ]
    }
   ],
   "source": [
    "# Cross Entropy Loss\n",
    "rnn_word_tokenised_dropout_02_cross_entropy_loss = evaluate_model(\n",
    "    model=rnn_word_tokenised_dropout_02,\n",
    "    converted_tokenised_docs=word_tokenised_numericalised_docs,\n",
    "    seq_len=SEQUENCE_LENGTH,\n",
    "    batch_size=BATCH_SIZE,\n",
    "    criterion=nn.CrossEntropyLoss(ignore_index=word_tokenisation_train_vocab[\"<pad>\"]),\n",
    "    device=device,\n",
    "    vocab_size=len(word_tokenisation_train_vocab)\n",
    ")\n",
    "print(f\"Cross Entropy Loss: {rnn_word_tokenised_dropout_02_cross_entropy_loss}\")\n",
    "\n",
    "# Perplexity\n",
    "rnn_word_tokenised_dropout_02_perplexity = math.exp(rnn_word_tokenised_dropout_02_cross_entropy_loss)\n",
    "print(f\"Perplexity: {rnn_word_tokenised_dropout_02_perplexity}\")"
   ]
  },
  {
   "cell_type": "code",
   "execution_count": 10,
   "id": "af7d75c4",
   "metadata": {},
   "outputs": [
    {
     "name": "stderr",
     "output_type": "stream",
     "text": [
      "100%|██████████| 300/300 [00:01<00:00, 176.27it/s]\n"
     ]
    },
    {
     "name": "stdout",
     "output_type": "stream",
     "text": [
      "Generated Sequence from ['Today'] with temperature 0.7:\n",
      "Today . it denied that the budget plan already successful and would like to buy burlington , that burlington has so far this year . but that experts ' prediction for economic growth this year , burnell roberts , chairman and chief executive officer , revamped the company ' s royalty plan , which includes wells fargo security guards , and chilton corp , a credit rating service . borg-warner has been reported to be acquired shares of common stock . the funds also said lynch said its u . k . video vending shares . pursuant to the transaction , harvey seslowsky and william hodes resigned from china fell 2 . 80 pct of the high crop improvement from profitable oil , traders said . in its semi-annual review of the world economy , the oecd said that apparent disagreements among major countries than at this time . if he was content of reserves before the imf and , the president of the meeting is at the new york law said . the agriculture department forecast the soviet 1986/87 crop at around 142 . 20 yen , dealers said . the central bank had placed buy orders at that level and prevented the dollar from falling when it sees the meeting to be held in vienna on sale of businesses . but it said it was agreed to extend until 1800 edt july 1 will meet to be a fairly political country ' s ousted prime minister timoci bavadra renewed pressure for his reinstatement with strikes and shop closures . the government welcomed a decision by the australian waterside workers ' federation even 4 . 4 pct to 1 . 669 mln , permits fell 0 . 6 pct to 1 . 493 mln u . s . dlrs a\n",
      "\n"
     ]
    },
    {
     "name": "stderr",
     "output_type": "stream",
     "text": [
      "100%|██████████| 300/300 [00:01<00:00, 180.87it/s]\n"
     ]
    },
    {
     "name": "stdout",
     "output_type": "stream",
     "text": [
      "Generated Sequence from ['Today'] with temperature 1.0:\n",
      "Today repeated the offer this year as it is based on by reporters for the year end as above those reported a net loss of 976 . 8 mln dlrs for the year ending last december . traders said the story , which appeared by the danish foreign investment in u . k . manufacturing farm consumption will be the dealer-manager for the offer , which expires at midnight edt may 8 planned to extended when the 500 bought a tonne in the current fiscal year . it said the purchase price was 240 mln dlrs , as previously announced , the money stock is tender . to less than 20 pct . the unimedia , which has an asking general agreement to use 2 . 3 pct down , liquefied cost of may rise to 3 . 1 pct . at this week ' s imf owned by june four opec worldwide in the year ending december 1986 , with extended , the reserve said . the bank ' s bill rank so far was the most likely source of harcourt ' s weekly growth bank of nine major nations it are still worried about the current deficit . we believe it is to fend off advances from rivals like businessland inc have agreed in principle to acquire privately-held link technologies increased its steel products the unit last month . usda said the agreement followed its bid for the first quarter , rothmans oil co plc &lt npol . t> , nil nil 50 workers use at european nations showed a cause cut announcement that their estimates down price , but continue to fall back to 20 pct . but komatsu said that total erickson are moving along a unit in the company . terms were not disclosed . combined\n",
      "\n"
     ]
    },
    {
     "name": "stderr",
     "output_type": "stream",
     "text": [
      "100%|██████████| 300/300 [00:01<00:00, 207.17it/s]"
     ]
    },
    {
     "name": "stdout",
     "output_type": "stream",
     "text": [
      "Generated Sequence from ['Today'] with temperature 1.3:\n",
      "Today says for each series of grains programs announced last year before investment operations totals around 500 mln dlrs . data reported compared with a 15 mln dlr but before a rise , compared on a new series of foreign-targeted shares , was set in august after june 26 and over 60 mln dlrs before taxes for high grade pfennig for five pct owned by exxon corp ' s firm j . 3 who rose to 96 . arrangements for a price and modification of 54 , 000 tonnes of gatt this year was not discussed in detail . japan sees the ec proposal required again to an 160 mln 5 . 0 in april last month , down two pct from the comparable 1985 quarter , up 35 pct from the wood . products crop seasonally adjusted 11 . 12 billion stg - both actual . and new oil production to around 16 dlrs a barrel . unocal said its market decision on here , they added . london metal exchange , a yeutter filed by merrill lynch capital partners , said it would continue its tender tomorrow to be after-tax , effective june 26 . dumez , aug current target home of company ' s 16-1/4 mln shares at 8 . 50 at the three toward 6-3/8 pct from 120 , australian state oil company den norske stats oljeselskap a/s ( statoil ) ltd celltronics inc said it began april 16 and 1986 , 1987 from 3 . 05 company after s 50 pct . the underlying rise in current share price was 1 . 28 dlrs a share for its tire operations . it said first tuskaloosa ' s first quarter restated for 3-for-2 stock split in january for august ' s 1 . 4 pct less 3\n",
      "\n"
     ]
    },
    {
     "name": "stderr",
     "output_type": "stream",
     "text": [
      "\n"
     ]
    }
   ],
   "source": [
    "# Generate text\n",
    "starting_sequence = [\"Today\"]\n",
    "temperatures = [0.7, 1.0, 1.3]\n",
    "\n",
    "for temperature in temperatures:\n",
    "    rnn_word_tokenised_dropout_02_generated_sequence = generate_text(\n",
    "        model=rnn_word_tokenised_dropout_02,\n",
    "        train_vocab=word_tokenisation_train_vocab,\n",
    "        start_seq=starting_sequence,\n",
    "        temperature=temperature\n",
    "    )\n",
    "    print(f\"Generated Sequence from {starting_sequence} with temperature {temperature}:\")\n",
    "    print(rnn_word_tokenised_dropout_02_generated_sequence)\n",
    "    print()"
   ]
  },
  {
   "cell_type": "markdown",
   "id": "8829422c",
   "metadata": {},
   "source": [
    "### Subword Tokenisation, Dropout = 0.0"
   ]
  },
  {
   "cell_type": "code",
   "execution_count": 11,
   "id": "57c6f511",
   "metadata": {},
   "outputs": [],
   "source": [
    "# Initialise model\n",
    "rnn = RNNLanguageModel(\n",
    "    vocab_size=len(subword_tokenisation_train_vocab),\n",
    "    embed_size=EMBEDDING_SIZE,\n",
    "    hidden_size=HIDDEN_SIZE,\n",
    "    num_layers=NUM_LAYERS,\n",
    "    dropout=0.0,\n",
    "    pad_idx=subword_tokenisation_train_vocab[\"<pad>\"]\n",
    ").to(device)\n",
    "\n",
    "rnn_subword_tokenised_dropout_0_filename = \"model_weights_rnn_word_tokens_False_dropout_0.0_20250906-074545\"\n",
    "\n",
    "rnn_subword_tokenised_dropout_0 = load_model(model_initialised=rnn, filename=rnn_subword_tokenised_dropout_0_filename, device=device)"
   ]
  },
  {
   "cell_type": "code",
   "execution_count": 12,
   "id": "1a8a09fb",
   "metadata": {},
   "outputs": [
    {
     "name": "stderr",
     "output_type": "stream",
     "text": [
      "100%|██████████| 1442/1442 [02:35<00:00,  9.26it/s]\n"
     ]
    },
    {
     "name": "stdout",
     "output_type": "stream",
     "text": [
      "Cross Entropy Loss: 8.542993121851499\n",
      "Perplexity: 5130.678147131693\n"
     ]
    }
   ],
   "source": [
    "# Cross Entropy Loss\n",
    "rnn_subword_tokenised_dropout_0_cross_entropy_loss = evaluate_model(\n",
    "    model=rnn_subword_tokenised_dropout_0,\n",
    "    converted_tokenised_docs=subword_tokenised_numericalised_docs,\n",
    "    seq_len=SEQUENCE_LENGTH,\n",
    "    batch_size=BATCH_SIZE,\n",
    "    criterion=nn.CrossEntropyLoss(ignore_index=subword_tokenisation_train_vocab[\"<pad>\"]),\n",
    "    device=device,\n",
    "    vocab_size=len(subword_tokenisation_train_vocab)\n",
    ")\n",
    "print(f\"Cross Entropy Loss: {rnn_subword_tokenised_dropout_0_cross_entropy_loss}\")\n",
    "\n",
    "# Perplexity\n",
    "rnn_subword_tokenised_dropout_0_perplexity = math.exp(rnn_subword_tokenised_dropout_0_cross_entropy_loss)\n",
    "print(f\"Perplexity: {rnn_subword_tokenised_dropout_0_perplexity}\")"
   ]
  },
  {
   "cell_type": "code",
   "execution_count": 13,
   "id": "1517a572",
   "metadata": {},
   "outputs": [
    {
     "name": "stderr",
     "output_type": "stream",
     "text": [
      "  0%|          | 0/300 [00:00<?, ?it/s]"
     ]
    },
    {
     "name": "stderr",
     "output_type": "stream",
     "text": [
      "100%|██████████| 300/300 [00:01<00:00, 194.20it/s]\n"
     ]
    },
    {
     "name": "stdout",
     "output_type": "stream",
     "text": [
      "Generated Sequence from ['Today'] with temperature 0.7:\n",
      "Today ,\" ▁said ▁fil des . \n",
      " ▁he ▁said ▁sq ui bb ▁was ▁the ▁good ▁partner ▁because ▁sq ui bb ▁has ▁a \n",
      " ▁major ▁joint ▁venture ▁in ▁j apan ▁and ▁will ▁be \n",
      " ▁complete ▁by ▁the ▁pipeline ▁break ▁and ▁the ▁company 's ▁new ▁preference ▁but ▁will ▁draw ▁all ▁the ▁amount \n",
      " ▁rate ▁to ▁down ▁the ▁n ether lands ▁ant illes ▁and \n",
      " ▁ar uba . ▁ bp cc ▁launched ▁a \n",
      " ▁1 . 4 ▁p ct ▁to ▁9 . 8 ▁p ct ▁in ▁1986 , ▁bank ▁of \n",
      " ▁planning ▁to ▁shareholders , ▁senior ▁dealer ▁at ▁a ▁cost ▁of ▁about ▁21 ▁m ln ▁ dl rs . \n",
      " ▁the ▁government 's ▁sweeping ▁privat isation ▁programme ▁has ▁also \n",
      " ▁included ▁the ▁sale ▁of ▁saint - gob ain ▁& lt ; sg ep . pa >, ▁and ▁c ie ▁fin anc iere \n",
      " ▁de ▁p ari bas ▁& lt ; p ari . pa >. ▁the ▁sale ▁of ▁the ▁two ▁liquor \n",
      " ▁businesses . ▁it ▁denied ▁a ▁50 ▁p ct ▁rise ▁in ▁plant ings ▁prove \n",
      " ▁true ▁in ▁j une , ▁they ▁said . \n",
      " ▁the ▁dollar ▁opened ▁at ▁a ▁season ally ▁adjusted ▁501 , 000 ▁units ▁after ▁a ▁6 . 5 ▁p ct ▁of ▁the ▁total , ▁from ▁246 , 500 ▁shares , ▁or ▁5 . 9 ▁p ct . \n",
      " ▁republic , ▁currently ▁is ▁t endered ▁along ▁with ▁its \n",
      " ▁payment ▁of ▁1 , 210 ▁ dl rs ▁on ▁current ▁levels ▁of ▁production \n",
      " ▁rose ▁on ▁the ▁30 , 000 ▁shares ▁of ▁common ' ▁share ▁assistance ▁will ▁be \n",
      " ▁estimated ▁at ▁88 . 21 ▁m ln ▁tonnes , ▁vs ▁88 . 4 ▁m ln \n",
      " ▁note : ▁share ▁adjusted ▁for ▁one - for - day ▁company ▁said ▁it ▁will ▁buy ▁the ▁loss ▁for \n",
      " ▁3 , 468 . 99 ▁111 . 99\n",
      "\n"
     ]
    },
    {
     "name": "stderr",
     "output_type": "stream",
     "text": [
      "100%|██████████| 300/300 [00:01<00:00, 184.23it/s]\n"
     ]
    },
    {
     "name": "stdout",
     "output_type": "stream",
     "text": [
      "Generated Sequence from ['Today'] with temperature 1.0:\n",
      "Today ▁we ▁still ▁a ▁purchase ▁price ▁for ▁soon ▁about ▁1 - 3 / 8 ▁to ▁one ▁inch ▁in ▁ed monton , \n",
      " ▁chief ▁due ▁next ▁week . ▁ \n",
      " ▁g ord ex ▁said ▁the ▁expansion ▁did ▁indeed ▁rise ▁2 . \n",
      " ▁high - capacity ▁fr duction ▁of ▁1 , 350 , 000 \n",
      " ▁ dl rs ▁in ▁quarter ▁and ▁3 , 800 , 000 ▁ dl rs , ▁or ▁ 393 ▁m ln ▁ dl rs \n",
      " ▁or ▁24 ▁c ts ▁a ▁share ▁vs ▁7 . 00 ▁m ln \n",
      " ▁tonnes ▁last ▁month . ▁corn ▁year ▁in ▁gasoline ▁market ▁its ▁value - added ▁19 . 00 ▁ dl rs ▁a \n",
      " ▁barrel . \n",
      " ▁\" the ▁agreement ▁which ▁is ▁that ▁sterling ▁have ▁is ▁no ▁new \n",
      " ▁commodity ▁exchange ▁ratio ▁to ▁17 . 2 ▁m ln ▁reported ▁in ▁1985 , ▁the ▁u . s . \n",
      " ▁\" these ▁are ▁quota ▁items ▁would ▁not ▁given ▁to ▁the \n",
      " ▁proposed ▁settlement ▁of ▁the ▁liquidity ▁at ▁over ▁this ▁year . \n",
      " ▁be cor 's ▁management ▁and ▁an ▁agreement ▁to ▁stock ▁operations ▁of ▁u . k . \n",
      " ▁k oe hler ▁said ▁in ▁a ▁speech ▁for ▁a ▁due ▁that ▁apply ▁yen ▁in ▁1985 ▁over ▁the \n",
      " ▁meeting ▁on ▁j uly ▁1 , ▁aiming ▁for ▁an ▁increase ▁in ▁high ▁interest ▁at ▁march . \n",
      " ▁j os ke 's ▁has ▁26 ▁stores ▁after ▁his ▁week . \n",
      " ▁\" on ▁is ▁found ▁talks ▁in ▁money ▁center ▁with ▁s ears ▁motor ▁and \n",
      " ▁x - minus ▁and \n",
      " ▁savings ▁service ▁and ▁potential ▁plan ▁through ▁u . s . \n",
      " ▁market ▁rates ▁is ▁only ▁on ▁factors ▁trade ▁to ▁75 ▁p ct ▁in ▁1991 , ▁from \n",
      " ▁about ▁50 ▁p ct ▁in ▁1986 . ▁the ▁re agan ▁administration ▁to ▁retaliate ▁against ▁a ▁record \n",
      " ▁fall . \n",
      " ▁the ▁sources ▁said ▁there ▁was\n",
      "\n"
     ]
    },
    {
     "name": "stderr",
     "output_type": "stream",
     "text": [
      "100%|██████████| 300/300 [00:01<00:00, 173.94it/s]"
     ]
    },
    {
     "name": "stdout",
     "output_type": "stream",
     "text": [
      "Generated Sequence from ['Today'] with temperature 1.3:\n",
      "Today ▁farmers ▁have ▁come ▁meetings ▁with ▁a ▁dollar ▁gr 5 ▁point \n",
      " ▁fell ▁6 . 3 ▁p ct ▁to ▁g np ▁in ▁may , ▁j uly ▁16 ▁and ▁s bc ▁r ▁corp ▁& lt ; t ae >, \n",
      " ▁an ▁economist ▁at ▁a ▁lead ▁conference ▁following ▁the ▁financial ▁markets ▁doing \n",
      " ▁industry ▁analysts ▁paid ▁and ▁be cor able ▁in ▁c etus , ▁taking ▁suit ▁for \n",
      " ▁un ▁840 . 2 ▁m ln ▁vs ▁720 ▁m ln \n",
      " ▁avg ▁sh rs ▁11 . 2 ▁m ln ▁vs ▁11 . 4 ▁m ln \n",
      " ▁extraordinary ▁items ▁debit ▁1 . 1 ▁m ln ▁ dl rs . \n",
      " ▁con ▁give ▁allied - based ▁l fg on - based ▁amb ros iano ▁said ▁that ▁t ok yo ▁has ▁unveiled ▁its ▁fiscal ▁stimulus ▁subsidies ▁of ▁1986 ▁billion ▁yen ▁in ▁the \n",
      " ▁last ▁quarter . \n",
      " ▁this ▁week , ▁including ▁the ▁lou vre ▁meeting ▁advanced ▁in ▁port \n",
      " ▁interest ▁to ▁75 ▁c ts ▁per ▁share ▁for ▁the ▁week ▁ended ▁march ▁28 \n",
      " ▁late ▁1989 ▁and ▁maximize ▁a ▁higher ▁margin . ▁st ev ens ▁and ▁technology ▁until \n",
      " ▁investigations ▁are ▁seeking , ▁of ▁up ▁to ▁30 ▁p ct , ▁the ▁ dl rs ▁per ▁t onne ▁of ▁cane ▁j apan ese ▁products ▁to ▁b razil 's ▁dollar ▁and ▁under ▁a ▁new ▁proposal ▁that \n",
      " ▁we ▁were ▁interested ▁today , ▁he ▁has ▁said , ▁could ▁refuel ▁inflation ▁as \n",
      " ▁part ▁of ▁the ▁g - 7 ▁reaff irmed ▁support ▁for ▁the ▁ sov iet \n",
      " ▁foreign ▁ministry , ▁told ▁the ▁special ▁drawing ▁right ▁will ▁be ▁shares ▁at ▁one ▁new . \n",
      " ▁the ▁u . k . ▁have ▁also ▁asked ▁as ▁\" an ▁intens ification ▁that ▁they ▁have ▁to ▁be ▁a ▁long ▁step , ▁one ▁from \n",
      " ▁of ▁jan ▁31 ▁year ▁period ▁ended ▁f eb ruary ▁28 ▁1987 ▁1986 ▁net ▁income\n",
      "\n"
     ]
    },
    {
     "name": "stderr",
     "output_type": "stream",
     "text": [
      "\n"
     ]
    }
   ],
   "source": [
    "# Generate text\n",
    "starting_sequence = [\"Today\"]\n",
    "temperatures = [0.7, 1.0, 1.3]\n",
    "\n",
    "for temperature in temperatures:\n",
    "    rnn_subword_tokenised_dropout_0_generated_sequence = generate_text(\n",
    "        model=rnn_subword_tokenised_dropout_0,\n",
    "        train_vocab=subword_tokenisation_train_vocab,\n",
    "        start_seq=starting_sequence,\n",
    "        temperature=temperature\n",
    "    )\n",
    "    print(f\"Generated Sequence from {starting_sequence} with temperature {temperature}:\")\n",
    "    print(rnn_subword_tokenised_dropout_0_generated_sequence)\n",
    "    print()"
   ]
  },
  {
   "cell_type": "markdown",
   "id": "9117f0eb",
   "metadata": {},
   "source": [
    "### Subword Tokenisation, Dropout = 0.2"
   ]
  },
  {
   "cell_type": "code",
   "execution_count": 14,
   "id": "2eab8d6f",
   "metadata": {},
   "outputs": [],
   "source": [
    "# Initialise model\n",
    "rnn = RNNLanguageModel(\n",
    "    vocab_size=len(subword_tokenisation_train_vocab),\n",
    "    embed_size=EMBEDDING_SIZE,\n",
    "    hidden_size=HIDDEN_SIZE,\n",
    "    num_layers=NUM_LAYERS,\n",
    "    dropout=0.2,\n",
    "    pad_idx=subword_tokenisation_train_vocab[\"<pad>\"]\n",
    ").to(device)\n",
    "\n",
    "rnn_subword_tokenised_dropout_02_filename = \"model_weights_rnn_word_tokens_False_dropout_0.2_20250906-085004\"\n",
    "\n",
    "rnn_subword_tokenised_dropout_02 = load_model(model_initialised=rnn, filename=rnn_subword_tokenised_dropout_02_filename, device=device)"
   ]
  },
  {
   "cell_type": "code",
   "execution_count": 15,
   "id": "c459e17c",
   "metadata": {},
   "outputs": [
    {
     "name": "stderr",
     "output_type": "stream",
     "text": [
      "100%|██████████| 1442/1442 [02:46<00:00,  8.68it/s]\n"
     ]
    },
    {
     "name": "stdout",
     "output_type": "stream",
     "text": [
      "Cross Entropy Loss: 6.820428295001574\n",
      "Perplexity: 916.3774059070712\n"
     ]
    }
   ],
   "source": [
    "# Cross Entropy Loss\n",
    "rnn_subword_tokenised_dropout_02_cross_entropy_loss = evaluate_model(\n",
    "    model=rnn_subword_tokenised_dropout_02,\n",
    "    converted_tokenised_docs=subword_tokenised_numericalised_docs,\n",
    "    seq_len=SEQUENCE_LENGTH,\n",
    "    batch_size=BATCH_SIZE,\n",
    "    criterion=nn.CrossEntropyLoss(ignore_index=subword_tokenisation_train_vocab[\"<pad>\"]),\n",
    "    device=device,\n",
    "    vocab_size=len(subword_tokenisation_train_vocab)\n",
    ")\n",
    "print(f\"Cross Entropy Loss: {rnn_subword_tokenised_dropout_02_cross_entropy_loss}\")\n",
    "\n",
    "# Perplexity\n",
    "rnn_subword_tokenised_dropout_02_perplexity = math.exp(rnn_subword_tokenised_dropout_02_cross_entropy_loss)\n",
    "print(f\"Perplexity: {rnn_subword_tokenised_dropout_02_perplexity}\")"
   ]
  },
  {
   "cell_type": "code",
   "execution_count": 16,
   "id": "0b96eba8",
   "metadata": {},
   "outputs": [
    {
     "name": "stderr",
     "output_type": "stream",
     "text": [
      "100%|██████████| 300/300 [00:00<00:00, 328.64it/s]\n"
     ]
    },
    {
     "name": "stdout",
     "output_type": "stream",
     "text": [
      "Generated Sequence from ['Today'] with temperature 0.7:\n",
      "Today ,\" ▁he ▁added . \n",
      " ▁\" the ▁dollar 's ▁meeting ▁is ▁being ▁placed ▁on ▁the ▁outcome ▁of ▁collective ▁wage ▁agreement . \n",
      " ▁the ▁meeting ▁was ▁attended ▁by ▁farm ▁ministers ▁in ▁the \n",
      " ▁past ▁one ▁days ▁during ▁the ▁year - ago ▁week , ▁traders ▁said . \n",
      " ▁they ▁said ▁the ▁relaxation ▁of ▁controls ▁was ▁now . \n",
      " ▁sharp ▁details ▁were ▁not ▁disclosed . \n",
      " ▁the ▁company , ▁which ▁includes ▁a ▁69 ▁m ln ▁ dl rs ▁for \n",
      " ▁capital ▁spending , ▁less ▁than ▁half ▁of ▁the ▁amount ▁spent ▁70 . 6 ▁p ct ▁from \n",
      " ▁13 . 13 ▁m ln ▁in ▁ap ril , ▁and ▁brought ▁its ▁stake ▁in ▁s ime ▁ dar by , ▁a \n",
      " ▁spokesman ▁for ▁gr aan ▁elevator ▁m ij , ▁the ▁largest ▁employer ▁yesterday . \n",
      " ▁earlier ▁today , ▁the ▁company ▁said ▁the ▁transaction ▁involves ▁the ▁combination ▁of \n",
      " ▁oil ▁and ▁by ▁an ▁existing ▁20 ▁p ct ▁gain ▁in ▁w es ts \n",
      " ▁ uc cel ▁corp ▁as ▁pen ney 's ▁co ▁and \n",
      " ▁& lt ; format ura ▁ ini ez ione ▁po lim eri ▁spa >, ▁gen oa ▁and ▁& lt ; l om > \n",
      " ▁diesel ▁systems ▁and ▁other ▁company , \n",
      " ▁r oland ▁has ▁said ▁it ▁will ▁make ▁their ▁part \n",
      " ▁but ▁the ▁group ▁of ▁seven ▁-- ▁the ▁united ▁states , ▁would ▁be ▁the ▁critical ▁factor . \n",
      " ▁they ▁said ▁the ▁relaxation ▁of ▁controls ▁was ▁now ▁as ▁a ▁result ▁of ▁abroad ,\" ▁he ▁added . \n",
      " ▁ \n",
      " ▁\" sq ui bb ▁is ▁putting ▁them , ▁it ▁said . \n",
      " ▁sci - med ▁year ley ▁inc ▁said \n",
      " ▁it ▁purchased ▁the ▁group ▁of ▁seven ▁ministers ▁in \n",
      " ▁the ▁gulf ▁to ▁country , ▁with ▁a ▁slightly ▁high ▁priority ▁from ▁the ▁price ▁of ▁the ▁united ▁states \n",
      " ▁with ▁reporting ▁such ▁as ▁prices ▁for ▁the\n",
      "\n"
     ]
    },
    {
     "name": "stderr",
     "output_type": "stream",
     "text": [
      "100%|██████████| 300/300 [00:00<00:00, 375.90it/s]\n"
     ]
    },
    {
     "name": "stdout",
     "output_type": "stream",
     "text": [
      "Generated Sequence from ['Today'] with temperature 1.0:\n",
      "Today \n",
      " ▁vul ▁prime ▁policy ▁will ▁now ▁be ▁followed ▁by \n",
      " ▁the ▁potential ,\" ▁said gil lette . \n",
      " ▁shore ▁mentioned ▁half ▁its ▁ch il uba , ▁leader ▁of ▁the ▁z am bian ▁congress ▁in ▁the ▁u . s . \n",
      " ▁carries ▁out ▁a ▁threat ▁to ▁make ▁an ▁effort ▁trade ▁in ▁a ▁near - term ▁strike ▁on \n",
      " ▁t enders , ▁he ▁added ▁in ▁t ok yo ▁were ▁on \n",
      " ▁notice ▁this ▁week ▁because ▁of ▁the ▁j apan ese ▁economy \n",
      " ▁have ▁had ▁been ▁taken ▁higher ▁than ▁the ▁commercial ▁customers . \n",
      " ▁lower ▁taxes ▁would ▁be ▁early ▁by ▁the ▁u . s . \n",
      " ▁currency ▁proposal , ▁which ▁is ▁required ▁to ▁report ▁the ▁ bah rain ▁s mel ter ▁9 . \n",
      " ▁p ea body ▁and ▁co . \n",
      " ▁\" there ▁is ▁ongoing , ▁serious ▁thought ▁applied ▁to ▁dome ▁in ▁its ▁retail \n",
      " ▁second ▁offer , ▁thus ▁ass uring ▁said ▁total ▁of ▁118 . 2 ▁m ln ▁s tg \n",
      " ▁the ▁j apan ese ▁early ▁income ▁goods ▁necessary , ▁and ▁that \n",
      " ▁it ▁would ▁be ▁taken ▁with ▁underlying ▁government ▁to ▁keep ▁our ▁trade ▁laws .\" \n",
      " ▁\" this ▁is ▁a ▁two - for - five ▁bonus ▁issue , ▁a ▁former ▁ argo sy st ems . \n",
      " ▁the ▁new ▁firm , ▁said ▁by ▁the ▁move ▁to ▁a ▁further ▁dollar ▁down ▁because ▁that ▁it ▁was \n",
      " ▁reached ▁in ▁new ▁y ork ▁and ▁seven , 000 ▁tonnes ▁of ▁wheat ▁for ▁an ▁e cu ▁gain ▁and \n",
      " ▁earlier ▁in ▁march ▁of ▁this ▁year 's ▁current ▁fiscal ▁quarter . ▁the \n",
      " ▁public ▁1985 / 87 ▁orders ▁at ▁end . 70 ▁m ln ▁tonnes , ▁vs ▁24 . 7 ▁m ln \n",
      " ▁six ▁months \n",
      " ▁shr ▁profit ▁eight ▁c ts ▁vs ▁loss ▁two ▁c ts \n",
      " ▁net ▁loss ▁ 725 , 000 ▁vs ▁profit ▁310 ,\n",
      "\n"
     ]
    },
    {
     "name": "stderr",
     "output_type": "stream",
     "text": [
      "100%|██████████| 300/300 [00:00<00:00, 369.51it/s]"
     ]
    },
    {
     "name": "stdout",
     "output_type": "stream",
     "text": [
      "Generated Sequence from ['Today'] with temperature 1.3:\n",
      "Today \n",
      " ▁also ▁will ▁not ▁do ▁anything ▁for ▁the ▁metal ▁rates . \n",
      " ▁\" such ▁a ▁gathering ▁of ▁money ▁and ▁foreign ▁exchange ▁last ▁fixed ▁over ▁& lt ; bank burg \n",
      " ▁pin cus ▁and ▁co ▁& lt ; up cm . o > ▁and ▁a \n",
      " ▁shareholders ▁by ▁the ▁j apan ▁will ▁maintain ▁its ▁prime ▁and \n",
      " ▁both ▁electronic ▁abolish ▁foreign ▁investment ▁in ▁the ▁second ▁six ▁months ▁of ▁1987 . \n",
      " ▁loans ▁to ▁j une ▁17 ▁and ▁112 , 000 ▁b pd , ▁u . s ▁9 ▁and ▁2 . 99 ▁billion ▁ dl rs ▁from ▁86 ▁m ln ▁d lr \n",
      " ▁from ▁one ▁third ▁quarter ▁ended ▁ap ril ▁30 \n",
      " ▁shr ▁two . 2 ▁cents ▁with ▁the \n",
      " ▁rice ▁for ▁the ▁energy ▁cocoa ▁in ▁fiscal ▁leading ▁producer \n",
      " ▁are ▁need ▁to ▁put ▁who ▁have ▁some ▁leading ▁industrial ▁house ▁and \n",
      " ▁west ▁ger many 's ▁largely ▁\" ▁goal ▁on ▁t uesday 's \n",
      " ▁west ▁g erman ▁monetary ▁policy ▁to ▁aid ▁the ▁dollar - if \n",
      " ▁end ▁and ▁there ▁are ▁are ▁likely ▁at ▁th over ▁banks . \n",
      " ▁\" compan ies ▁like ▁dup ont ▁& lt ; dd > \n",
      " ▁ nova ▁said ▁the hor ▁offer ▁were ▁400 , 000 ▁tonnes ▁of \n",
      " ▁wheat ▁from ▁14 . 7 ▁m ln ▁u . s . ▁oil ▁as \n",
      " ▁under ▁information ▁new ▁y ork ▁denied ▁the \n",
      " ▁motion ▁here . \n",
      " ▁analysts ▁said ▁the ▁loss ▁of ▁the ▁inst itutes \n",
      " ▁will ▁become ▁improving ▁are ▁needed ▁with ▁stake ▁to \n",
      " ▁prevent ▁share ▁in ▁its ▁loan ▁negotiations , ▁17 . 0 ▁m ln ▁sw iss ▁f on 's \n",
      " ▁amount ▁to ▁end ▁their ▁s aj ▁paid . ▁ ira qi ▁troops \n",
      " ▁investors ▁in ▁tex as ▁mine ▁ak ▁co k ' ▁has \n",
      " ▁approved ▁an ▁agreement ▁for ▁12 ▁m ln ▁trader ▁bid ▁closes ▁on ▁behalf ▁of\n",
      "\n"
     ]
    },
    {
     "name": "stderr",
     "output_type": "stream",
     "text": [
      "\n"
     ]
    }
   ],
   "source": [
    "# Generate text\n",
    "starting_sequence = [\"Today\"]\n",
    "temperatures = [0.7, 1.0, 1.3]\n",
    "\n",
    "for temperature in temperatures:\n",
    "    rnn_subword_tokenised_dropout_02_generated_sequence = generate_text(\n",
    "        model=rnn_subword_tokenised_dropout_02,\n",
    "        train_vocab=subword_tokenisation_train_vocab,\n",
    "        start_seq=starting_sequence,\n",
    "        temperature=temperature\n",
    "    )\n",
    "    print(f\"Generated Sequence from {starting_sequence} with temperature {temperature}:\")\n",
    "    print(rnn_subword_tokenised_dropout_02_generated_sequence)\n",
    "    print()"
   ]
  },
  {
   "cell_type": "markdown",
   "id": "69d6a5ed",
   "metadata": {},
   "source": [
    "## LSTM"
   ]
  },
  {
   "cell_type": "markdown",
   "id": "753e7b75",
   "metadata": {},
   "source": [
    "### Word Tokenisation, Dropout = 0.0"
   ]
  },
  {
   "cell_type": "code",
   "execution_count": 17,
   "id": "78807a52",
   "metadata": {},
   "outputs": [],
   "source": [
    "# Initialise model\n",
    "lstm = LSTMLanguageModel(\n",
    "    vocab_size=len(word_tokenisation_train_vocab),\n",
    "    embed_size=EMBEDDING_SIZE,\n",
    "    hidden_size=HIDDEN_SIZE,\n",
    "    num_layers=NUM_LAYERS,\n",
    "    dropout=0.0,\n",
    "    pad_idx=word_tokenisation_train_vocab[\"<pad>\"]\n",
    ").to(device)\n",
    "\n",
    "lstm_word_tokenised_dropout_0_filename = \"model_weights_lstm_word_tokens_True_dropout_0.0_20250905-094011\"\n",
    "\n",
    "lstm_word_tokenised_dropout_0 = load_model(model_initialised=lstm, filename=lstm_word_tokenised_dropout_0_filename, device=device)"
   ]
  },
  {
   "cell_type": "code",
   "execution_count": 18,
   "id": "59597b05",
   "metadata": {},
   "outputs": [
    {
     "name": "stderr",
     "output_type": "stream",
     "text": [
      "100%|██████████| 1073/1073 [03:27<00:00,  5.17it/s]"
     ]
    },
    {
     "name": "stdout",
     "output_type": "stream",
     "text": [
      "Cross Entropy Loss: 11.687003160761765\n",
      "Perplexity: 119014.80317215814\n"
     ]
    },
    {
     "name": "stderr",
     "output_type": "stream",
     "text": [
      "\n"
     ]
    }
   ],
   "source": [
    "# Cross Entropy Loss\n",
    "lstm_word_tokenised_dropout_0_cross_entropy_loss = evaluate_model(\n",
    "    model=lstm_word_tokenised_dropout_0,\n",
    "    converted_tokenised_docs=word_tokenised_numericalised_docs,\n",
    "    seq_len=SEQUENCE_LENGTH,\n",
    "    batch_size=BATCH_SIZE,\n",
    "    criterion=nn.CrossEntropyLoss(ignore_index=word_tokenisation_train_vocab[\"<pad>\"]),\n",
    "    device=device,\n",
    "    vocab_size=len(word_tokenisation_train_vocab)\n",
    ")\n",
    "print(f\"Cross Entropy Loss: {lstm_word_tokenised_dropout_0_cross_entropy_loss}\")\n",
    "\n",
    "# Perplexity\n",
    "lstm_word_tokenised_dropout_0_perplexity = math.exp(lstm_word_tokenised_dropout_0_cross_entropy_loss)\n",
    "print(f\"Perplexity: {lstm_word_tokenised_dropout_0_perplexity}\")"
   ]
  },
  {
   "cell_type": "code",
   "execution_count": 19,
   "id": "3e3d2171",
   "metadata": {},
   "outputs": [
    {
     "name": "stderr",
     "output_type": "stream",
     "text": [
      "  4%|▍         | 13/300 [00:00<00:15, 18.65it/s]\n"
     ]
    },
    {
     "name": "stdout",
     "output_type": "stream",
     "text": [
      "Generated Sequence from ['Today'] with temperature 0.7:\n",
      "Today that the federal reserve will first determine from june , it said .\n",
      "\n"
     ]
    },
    {
     "name": "stderr",
     "output_type": "stream",
     "text": [
      "100%|██████████| 300/300 [00:02<00:00, 148.60it/s]\n"
     ]
    },
    {
     "name": "stdout",
     "output_type": "stream",
     "text": [
      "Generated Sequence from ['Today'] with temperature 1.0:\n",
      "Today quoted central officials as saying with 60 . 9 mln hectares of wheat were affected in london . yesterday , first four spokesman said . but he added there was a general company , told reuters the company was examining potential candidates but not yet talking with any . he declined to name the companies but said a deal could occur as soon as the second half of 1987 . phelps dodge , which ranks as the largest copper producer in the last day of its latest offer was not immediately . his sold agreed to merge , forming to be named , said . he said the ibc is not related from a . h . robins co said its royal airlines inc , which serves a special position , he terminated of the two other striking locals , representing 600 office and technical workers . production at trail and kimberley has been shut down since the strike started may 9 , this last year , after importing between one oil output in calendar 1986 was more than 6 . 13 cents a tonne in europe , securities manager had been pitched too low . the corn tax credits of 17 , 000 tonnes of derivatives . this sold also said conditions by the board of governors of two billion cubic feet of gas daily , and this past american and said there will be some measures with they will be able to refinance at lower interest rates . however , the holders of the bonds presumably will be faced to limit exports to the u . s . in the past viewed as a major player at times by the trade -- would make participants uncomfortable . some traders expressed a preference for a resumption of trading on\n",
      "\n"
     ]
    },
    {
     "name": "stderr",
     "output_type": "stream",
     "text": [
      "100%|██████████| 300/300 [00:01<00:00, 156.17it/s]"
     ]
    },
    {
     "name": "stdout",
     "output_type": "stream",
     "text": [
      "Generated Sequence from ['Today'] with temperature 1.3:\n",
      "Today despite cutbacks in output in the u . k . and japanese soviet ships have also been lost , with heavy problems and was in the best long-term interests of its 38 mln dlr per share merger ' company common shares with stock at the 1 . 45 dlrs and 3 . 51 dlrs per share on at the end of dec 17 , 1986 , and profits of its product , which was halted on october this year . but for the start of the bundesbank is not firming . . . and broad moves which have been re-registered to canadian farm money supply for dome and its 18 and payment of u . s . international manufacturing industries to continue their purchases after improving on the southern eastern of march . but most dealers said the position of the deficit reduction goal were around anything but you can done in west investment fund ( ciif ) and 1 . 25 mln a year loss were higher than after taxes . as banks are expected to be resumed at least first loss carryforward . china canada reported shr 60 . 16 billion vs 16 . 92 billion deposits 10 . 21 billion vs 9 . 24 billion assets 9 . domestic , 875 . 7 mln avg shrs 11 , 871 , 751 vs 9 , 398 , 952 nine mths shr 76 cts vs 5 , 291 , 000 year shr 57 cts vs two cts net 570 , 000 vs 133 , 000 rev 19 . 9 mln vs 16 . 8 mln avg shares 7 , 952 , 000 vs 8 , spring year shr 1 . 18 dlrs vs 1 . 50 dlrs net 911 , 000 vs 847 , 000 total income 1 .\n",
      "\n"
     ]
    },
    {
     "name": "stderr",
     "output_type": "stream",
     "text": [
      "\n"
     ]
    }
   ],
   "source": [
    "# Generate text\n",
    "starting_sequence = [\"Today\"]\n",
    "temperatures = [0.7, 1.0, 1.3]\n",
    "\n",
    "for temperature in temperatures:\n",
    "    lstm_word_tokenised_dropout_0_generated_sequence = generate_text(\n",
    "        model=lstm_word_tokenised_dropout_0,\n",
    "        train_vocab=word_tokenisation_train_vocab,\n",
    "        start_seq=starting_sequence,\n",
    "        temperature=temperature\n",
    "    )\n",
    "    print(f\"Generated Sequence from {starting_sequence} with temperature {temperature}:\")\n",
    "    print(lstm_word_tokenised_dropout_0_generated_sequence)\n",
    "    print()"
   ]
  },
  {
   "cell_type": "markdown",
   "id": "8d2fe55d",
   "metadata": {},
   "source": [
    "### Word Tokenisation, Dropout = 0.2"
   ]
  },
  {
   "cell_type": "code",
   "execution_count": 20,
   "id": "31c4df57",
   "metadata": {},
   "outputs": [],
   "source": [
    "# Initialise model\n",
    "lstm = LSTMLanguageModel(\n",
    "    vocab_size=len(word_tokenisation_train_vocab),\n",
    "    embed_size=EMBEDDING_SIZE,\n",
    "    hidden_size=HIDDEN_SIZE,\n",
    "    num_layers=NUM_LAYERS,\n",
    "    dropout=0.2,\n",
    "    pad_idx=word_tokenisation_train_vocab[\"<pad>\"]\n",
    ").to(device)\n",
    "\n",
    "lstm_word_tokenised_dropout_02_filename = \"model_weights_lstm_word_tokens_True_dropout_0.2_20250906-071938\"\n",
    "\n",
    "lstm_word_tokenised_dropout_02 = load_model(model_initialised=lstm, filename=lstm_word_tokenised_dropout_02_filename, device=device)"
   ]
  },
  {
   "cell_type": "code",
   "execution_count": 21,
   "id": "ee7e887b",
   "metadata": {},
   "outputs": [
    {
     "name": "stderr",
     "output_type": "stream",
     "text": [
      "100%|██████████| 1073/1073 [02:22<00:00,  7.52it/s]"
     ]
    },
    {
     "name": "stdout",
     "output_type": "stream",
     "text": [
      "Cross Entropy Loss: 9.47497796895675\n",
      "Perplexity: 13029.586940404579\n"
     ]
    },
    {
     "name": "stderr",
     "output_type": "stream",
     "text": [
      "\n"
     ]
    }
   ],
   "source": [
    "# Cross Entropy Loss\n",
    "lstm_word_tokenised_dropout_02_cross_entropy_loss = evaluate_model(\n",
    "    model=lstm_word_tokenised_dropout_02,\n",
    "    converted_tokenised_docs=word_tokenised_numericalised_docs,\n",
    "    seq_len=SEQUENCE_LENGTH,\n",
    "    batch_size=BATCH_SIZE,\n",
    "    criterion=nn.CrossEntropyLoss(ignore_index=word_tokenisation_train_vocab[\"<pad>\"]),\n",
    "    device=device,\n",
    "    vocab_size=len(word_tokenisation_train_vocab)\n",
    ")\n",
    "print(f\"Cross Entropy Loss: {lstm_word_tokenised_dropout_02_cross_entropy_loss}\")\n",
    "\n",
    "# Perplexity\n",
    "lstm_word_tokenised_dropout_02_perplexity = math.exp(lstm_word_tokenised_dropout_02_cross_entropy_loss)\n",
    "print(f\"Perplexity: {lstm_word_tokenised_dropout_02_perplexity}\")"
   ]
  },
  {
   "cell_type": "code",
   "execution_count": 22,
   "id": "1855175e",
   "metadata": {},
   "outputs": [
    {
     "name": "stderr",
     "output_type": "stream",
     "text": [
      "100%|██████████| 300/300 [00:01<00:00, 207.82it/s]\n"
     ]
    },
    {
     "name": "stdout",
     "output_type": "stream",
     "text": [
      "Generated Sequence from ['Today'] with temperature 0.7:\n",
      "Today was not in the best interests of the united states and japan to stabilise exchange rates . in the debtor countries , the organisation ' s budget deficit and the further build-up of an already-substantial net external asset position could well lead to upward pressure on the yen . it said that earlier tightening growth was high by the fall in the industrial nations . in the past six months ago other than the most unchanged seen the dollar fall had been temporarily is recognized after the administration ( stoltenberg ) said . naturally , we welcomed the defeat but there is a chance the u . s . congress has been widely interpreted as a result , he said . i think the stock market ' s biggest sales was now to reduce tariffs on japanese electronic imports and a slow turnaround in the second half of 1986 . atlas said negotiations were continuing on the acquisition by bond of the company ' s existing bank loans and their restructuring into a gold loan . a memorandum of understanding signed by the two sides in october last year had been terminated by mutual organisation ' s interim bank . the company said backlog stood at 1 . 520 billion dlrs , down from 1 . 64 mln new year . the plant will be shipped next week and next year . the senate government has denied rumours that the ruling conservatives would win last week ' s election , now looks likely to prevent a base rate cut as the authorities try to prevent these funds swelling the domestic money system . however , david owen , u . k . economist at kleinwort grieveson securities , said any fresh sterling strength would still trigger a base rate cut\n",
      "\n"
     ]
    },
    {
     "name": "stderr",
     "output_type": "stream",
     "text": [
      "100%|██████████| 300/300 [00:00<00:00, 354.13it/s]\n"
     ]
    },
    {
     "name": "stdout",
     "output_type": "stream",
     "text": [
      "Generated Sequence from ['Today'] with temperature 1.0:\n",
      "Today at 17 . 47 dlrs per barrel in april from a high almost 14 pct decline to the dollar but it is quite too early to venture out of a small position of the key run , but others may have to influence the industry of the west german economy , the organisation for economic cooperation and development ( oecd ) said here . the economic situation has deteriorated in recent months , and very recession , said he expects the dollar to hold steady against the mark and swiss franc but to weaken further against the yen , possibly by prime minister yasuhiro lampe . 00 interest rate differentials half may be 8 . 5 pct in 1986 . inflation depends on its 1986 crop for profits ended april 8 , 1987 , it was warm with some rainfall , which provided the beet growth , government officials said . theys said the plant would cost an estimated 270 mln canadian francs . the group had a 10 . 5 pct stake under coffee monday , by three of a series of problems to their shareholders as required as the deal , to revamp and expand its el palito refinery . kellogg said the installed cost of the work to be performed is estimated to be 130 mln dlrs . inelectra , kellogg said , is a subsidiary of the royal dutch/shell group &lt rd> and texaco inc &lt tx> , which is the pipeline after trying to make it headed by seeking employed in the virginia energy committee today . the arrangement for the week ended may 29 , with the recommendation that the area had been forced to import sugar as the cardiovascular help when the country would clearly own exports worldwide , said steve chronowitz ,\n",
      "\n"
     ]
    },
    {
     "name": "stderr",
     "output_type": "stream",
     "text": [
      "100%|██████████| 300/300 [00:00<00:00, 391.24it/s]"
     ]
    },
    {
     "name": "stdout",
     "output_type": "stream",
     "text": [
      "Generated Sequence from ['Today'] with temperature 1.3:\n",
      "Today for a gradually which would watch the matter as long as the uncertainty will accept the contract pact . according to a copy of perelman ' s letter released by gillette , but that the chances of are seen as a very important planning policy . it said the authorities is prepared to make another large non-copper acquisition on the way . after the trade figures were available on buffer stock repurchase agreements , traders said . the dollar opened at similar levels at pct against the dollar dropped last week . he said sterling bank had not risen some cuts . poehl said west german beer and small borrowings by the end of the week , just up around 3-7/8 pct . saudi activity was also talking with the new exchange as opec repurchase agreements it helped stimulate its economic wheat on oils and fats , parliamentarians said . a broad cross-section of members of parliament voiced their opposition to the tax during a debate in south africa by june 1 . the plant was upgraded to a capacity of 530 , 000 bpd during the year , enabling it to supply major manufacturing rate in lead to trade policies to the u . s . unit , malaysia and thailand south korea is a third party - especially against 125 cents and imported materials . he said the two companies made a large part of our water companies could even lead beyond the collapse of the ita did show . the price index is likely to be announced next month , and curbs on world trade problems against the soviet foreign wheat crop under a previous fall of 99 . 35 against import and 40 pct in rotterdam situation despite reduced bids implied by the u . s\n",
      "\n"
     ]
    },
    {
     "name": "stderr",
     "output_type": "stream",
     "text": [
      "\n"
     ]
    }
   ],
   "source": [
    "# Generate text\n",
    "starting_sequence = [\"Today\"]\n",
    "temperatures = [0.7, 1.0, 1.3]\n",
    "\n",
    "for temperature in temperatures:\n",
    "    lstm_word_tokenised_dropout_02_generated_sequence = generate_text(\n",
    "        model=lstm_word_tokenised_dropout_02,\n",
    "        train_vocab=word_tokenisation_train_vocab,\n",
    "        start_seq=starting_sequence,\n",
    "        temperature=temperature\n",
    "    )\n",
    "    print(f\"Generated Sequence from {starting_sequence} with temperature {temperature}:\")\n",
    "    print(lstm_word_tokenised_dropout_02_generated_sequence)\n",
    "    print()"
   ]
  },
  {
   "cell_type": "markdown",
   "id": "7980feb7",
   "metadata": {},
   "source": [
    "### Subword Tokenisation, Dropout = 0.0"
   ]
  },
  {
   "cell_type": "code",
   "execution_count": 23,
   "id": "1725a473",
   "metadata": {},
   "outputs": [],
   "source": [
    "# Initialise model\n",
    "lstm = LSTMLanguageModel(\n",
    "    vocab_size=len(subword_tokenisation_train_vocab),\n",
    "    embed_size=EMBEDDING_SIZE,\n",
    "    hidden_size=HIDDEN_SIZE,\n",
    "    num_layers=NUM_LAYERS,\n",
    "    dropout=0.0,\n",
    "    pad_idx=subword_tokenisation_train_vocab[\"<pad>\"]\n",
    ").to(device)\n",
    "\n",
    "lstm_subword_tokenised_dropout_0_filename = \"model_weights_lstm_word_tokens_False_dropout_0.0_20250906-081655\"\n",
    "\n",
    "lstm_subword_tokenised_dropout_0 = load_model(model_initialised=lstm, filename=lstm_subword_tokenised_dropout_0_filename, device=device)"
   ]
  },
  {
   "cell_type": "code",
   "execution_count": 24,
   "id": "61582779",
   "metadata": {},
   "outputs": [
    {
     "name": "stderr",
     "output_type": "stream",
     "text": [
      "100%|██████████| 1442/1442 [01:43<00:00, 13.88it/s]"
     ]
    },
    {
     "name": "stdout",
     "output_type": "stream",
     "text": [
      "Cross Entropy Loss: 10.090113407943848\n",
      "Perplexity: 24103.525809895324\n"
     ]
    },
    {
     "name": "stderr",
     "output_type": "stream",
     "text": [
      "\n"
     ]
    }
   ],
   "source": [
    "# Cross Entropy Loss\n",
    "lstm_subword_tokenised_dropout_0_cross_entropy_loss = evaluate_model(\n",
    "    model=lstm_subword_tokenised_dropout_0,\n",
    "    converted_tokenised_docs=subword_tokenised_numericalised_docs,\n",
    "    seq_len=SEQUENCE_LENGTH,\n",
    "    batch_size=BATCH_SIZE,\n",
    "    criterion=nn.CrossEntropyLoss(ignore_index=subword_tokenisation_train_vocab[\"<pad>\"]),\n",
    "    device=device,\n",
    "    vocab_size=len(subword_tokenisation_train_vocab)\n",
    ")\n",
    "print(f\"Cross Entropy Loss: {lstm_subword_tokenised_dropout_0_cross_entropy_loss}\")\n",
    "\n",
    "# Perplexity\n",
    "lstm_subword_tokenised_dropout_0_perplexity = math.exp(lstm_subword_tokenised_dropout_0_cross_entropy_loss)\n",
    "print(f\"Perplexity: {lstm_subword_tokenised_dropout_0_perplexity}\")"
   ]
  },
  {
   "cell_type": "code",
   "execution_count": 25,
   "id": "9def2bdd",
   "metadata": {},
   "outputs": [
    {
     "name": "stderr",
     "output_type": "stream",
     "text": [
      "100%|██████████| 300/300 [00:01<00:00, 222.37it/s]\n"
     ]
    },
    {
     "name": "stdout",
     "output_type": "stream",
     "text": [
      "Generated Sequence from ['Today'] with temperature 0.7:\n",
      "Today ▁and ▁ meyer ▁detective \n",
      " ▁agency ▁inc ▁of ▁national ▁park , ▁n . j . \n",
      " ▁the ▁company ▁said ▁it ▁is ▁evaluating ▁the ▁proposals ▁from ▁p aul \n",
      " ▁bil ze rian ▁and ▁from ▁a ▁third ▁party ▁which ▁is ▁active ▁in ▁the \n",
      " ▁leve raged ▁bu yout ▁field ▁but ▁which ▁pay ▁n ' ▁ pak ▁declined ▁to \n",
      " ▁identify . \n",
      " ▁it ▁said ▁the ▁bil ze rian ▁proposal ▁calls ▁for ▁distribution ▁of \n",
      " ▁stock holders ▁as ▁a ▁result ▁of ▁its ▁office ▁credit ▁for ▁a ▁total ▁of ▁50 . 9 \n",
      " ▁m ln ▁ dl rs ▁and ▁net ▁yield ▁2 . 99 ▁p ct . ▁if ▁b razil ▁does ▁not ▁resume \n",
      " ▁payments , ▁1987 ▁net ▁would ▁be ▁cut ▁by ▁72 ▁m ln ▁ dl rs , ▁would \n",
      " ▁be ▁full ▁impact ▁of ▁the ▁consumer ▁exploration \n",
      " ▁over ▁the ▁first ▁10 ▁years ▁are ▁holding . ▁these ▁markets ▁are \n",
      " ▁underway ▁to ▁give ▁a ▁forecast ▁for ▁the ▁six ▁months . \n",
      " ▁c ondon ▁attributed ▁the ▁fed ▁would ▁not ▁cause ▁any ▁action \n",
      " ▁within ▁its ▁own ▁tender ▁lead ▁for ▁the ▁u . s . ▁and ▁ eur ope ▁seek \n",
      " ▁removal ▁of ▁tariffs ▁and ▁quotas ▁to ▁help ▁reduce ▁their ▁trade \n",
      " ▁deficits ▁with ▁j apan ▁reached ▁a ▁1 . 4 ▁billion ▁can adian ▁ dl rs \n",
      " ▁in ▁a ▁series ▁of ▁interests ▁in ▁sp ▁net , ▁a ▁13 , 000 ▁b pd , \n",
      " ▁against ▁first ▁pharmaceutical ▁products ▁and ▁had ▁borrowed ▁an ▁additional \n",
      " ▁ kw acha . ▁but ▁with ▁the ▁question ▁of ▁about ▁100 , 000 ▁jobs ▁had ▁been \n",
      " ▁lost ▁in ▁the ▁region , ▁while ▁more ▁than ▁600 , 000 ▁new ▁jobs ▁were \n",
      " ▁created ▁during ▁the ▁period . \n",
      " ▁at ▁the ▁same ▁time , ▁he ▁said . \n",
      " ▁but ▁any ▁major ▁decisions ▁would ▁have ▁to ▁be ▁reserved ▁for ▁ec \n",
      " ▁foreign\n",
      "\n"
     ]
    },
    {
     "name": "stderr",
     "output_type": "stream",
     "text": [
      "100%|██████████| 300/300 [00:01<00:00, 293.76it/s]\n"
     ]
    },
    {
     "name": "stdout",
     "output_type": "stream",
     "text": [
      "Generated Sequence from ['Today'] with temperature 1.0:\n",
      "Today ▁and ▁pipe \n",
      " ▁32 ▁times ▁ han over , ▁shopping ▁re alty ▁& lt ; uk . as >, \n",
      " ▁said ▁au str alia 's ▁two ▁largest ▁wheat \n",
      " ▁( excluding ▁temples ) ▁will ▁jointly ▁as ▁a ▁long - time ▁span , ▁bankers \n",
      " ▁said . \n",
      " ▁\" we 're ▁a ▁net ▁an ▁improvement ▁of ▁six ▁people ,\" ▁he ▁told \n",
      " ▁re uters . \n",
      " ▁\" a ▁heavy ▁heart ,\" ▁meaning ▁that ▁he ▁would ▁take ▁it ?\" ▁he ▁added . \n",
      " ▁the ▁o ecd ▁said ▁that ▁the ▁dividend ▁was ▁the ▁third ▁consecutive \n",
      " ▁days ▁of ▁a ▁continuing ▁attempt ▁on ▁producing ▁trade ▁im bal ances , \n",
      " ▁cl ark ▁told ▁a ▁meeting ▁of ▁the ▁minerals ▁research ▁organisation \n",
      " ▁in ▁m ilton ▁ke ynes ▁he ▁fore saw ▁a ▁250 , 000 ▁ounce ▁increase ▁in ▁may \n",
      " ▁s audi ▁ ara bia 's ▁government ▁ahead ▁of \n",
      " ▁schedule . \n",
      " ▁it ▁added ▁the ▁market ▁share ▁was ▁acquired ▁2 . 5 ▁m ln ▁shares ▁of ▁v ira tek \n",
      " ▁common . ▁to ▁date , ▁i cn ▁said ▁it ▁bought ▁a ▁total ▁of ▁about ▁1 . 2 ▁m ln \n",
      " ▁shares ▁of ▁v ira tek , ▁including ▁the ▁shares ▁purchased ▁from ▁k od ak . \n",
      " ▁the ▁company ▁said ▁it ▁amended ▁its ▁shareholder ▁rights \n",
      " ▁plan ▁so ▁that ▁certain ▁provisions ▁of ▁the ▁plan ▁cannot ▁occur ▁until \n",
      " ▁the ▁board ▁determines ▁that ▁it ▁is ▁in ▁the ▁best ▁interests ▁of ▁the \n",
      " ▁group ▁of ▁seven ▁state ▁data ▁delegation ▁today , ▁market ▁market ▁share \n",
      " ▁under writing ▁group ▁& lt ; al rn . o > ▁3 rd ▁q tr ▁net \n",
      " ▁shr ▁loss ▁24 ▁c ts ▁vs ▁profit ▁seven \n",
      " ▁net ▁34 . 16 ▁billion ▁vs ▁7 . 31 \n",
      " ▁ dl rs ▁vs ▁94 ▁175 ▁m ln ▁72 ▁m ln \n",
      " ▁assets ▁2 . 84 ▁billion\n",
      "\n"
     ]
    },
    {
     "name": "stderr",
     "output_type": "stream",
     "text": [
      "100%|██████████| 300/300 [00:00<00:00, 354.89it/s]"
     ]
    },
    {
     "name": "stdout",
     "output_type": "stream",
     "text": [
      "Generated Sequence from ['Today'] with temperature 1.3:\n",
      "Today ▁fits ▁to ▁prevent ▁any ▁outbreaks ▁of ▁ ri oting \n",
      " ▁ ku wa iti ▁d ▁co ▁l td ▁of ▁which ▁t nt 100 ▁will ▁be \n",
      " ▁upgraded ▁to ▁around ▁one ▁m ln ▁tonnes ▁a ▁year 's ▁45 , ▁government ▁spokesman ▁fried helm \n",
      " ▁l td ▁( 5 ) ▁in ▁new ▁y ork ▁and ▁142 . 50 ▁to ▁a ▁prime ▁rate ▁to ▁17 ▁p ct . \n",
      " ▁\" this ▁per ▁\" by ▁bri tain ▁has ▁threatened ▁to ▁damage ▁from ▁i raq , ▁the ▁u . s . \n",
      " ▁were ▁to ▁58 . 0 ▁billion ▁ dl rs ▁and ▁imports ▁rose ▁only ▁more ▁than ▁two ▁m ln \n",
      " ▁ dl rs ▁from ▁the ▁fed ▁averaged ▁20 ▁ dl rs ▁a ▁week \n",
      " ▁of ▁dup ont 's ▁con oco ▁buy ▁shares ▁he ▁sold ▁chief ▁ro bert ▁de ▁la ▁gar za ▁has \n",
      " ▁said ▁the ▁committee ▁working ▁council ▁documents ▁concerned \n",
      " ▁the ▁nation 's ▁decision ▁to ▁continued ▁higher ▁interest ▁rates \n",
      " ▁more ▁than ▁capital izing ▁prices ▁to ▁previous ▁short - term \n",
      " ▁deposits ▁and ▁30 ▁p ct ▁on ▁ap ril ▁17 . ▁\" the ▁world 's ▁largest ▁debtor ▁corporation , \n",
      " ▁has ▁been ▁making ▁of ▁over ▁three ▁p ct , ▁compared ▁to ▁at ▁least ▁a \n",
      " ▁convertible ▁subord inated ▁de bent ures . \n",
      " ▁continental ▁materials ▁said ▁the ▁board ▁accepted ▁offers ▁for \n",
      " ▁total ▁o pec ▁price . \n",
      " ▁ pak istan ▁at ▁ec ▁tax , ▁f rance , ▁and ▁can ada . \n",
      " ▁the ▁industry 's ▁measure ▁were ▁now ▁waiting ▁on ▁the ▁commodity ▁expires ▁on \n",
      " ▁currency ▁markets . \n",
      " ▁\" there 's ▁no ▁doubt ▁that ▁there ▁were ▁no ▁b ales ▁from ▁the \n",
      " ▁strategic ▁st rait ▁of ▁horm uz , ▁entrance ▁to ▁the ▁gulf . ▁we \n",
      " ▁would ▁not ▁be ▁in ▁the ▁best ▁interest .\" \n",
      " ▁income ▁growth ▁on ▁hand ▁are ,\n",
      "\n"
     ]
    },
    {
     "name": "stderr",
     "output_type": "stream",
     "text": [
      "\n"
     ]
    }
   ],
   "source": [
    "# Generate text\n",
    "starting_sequence = [\"Today\"]\n",
    "temperatures = [0.7, 1.0, 1.3]\n",
    "\n",
    "for temperature in temperatures:\n",
    "    lstm_subword_tokenised_dropout_0_generated_sequence = generate_text(\n",
    "        model=lstm_subword_tokenised_dropout_0,\n",
    "        train_vocab=subword_tokenisation_train_vocab,\n",
    "        start_seq=starting_sequence,\n",
    "        temperature=temperature\n",
    "    )\n",
    "    print(f\"Generated Sequence from {starting_sequence} with temperature {temperature}:\")\n",
    "    print(lstm_subword_tokenised_dropout_0_generated_sequence)\n",
    "    print()"
   ]
  },
  {
   "cell_type": "markdown",
   "id": "43f3847b",
   "metadata": {},
   "source": [
    "### Subword Tokenisation, Dropout = 0.2"
   ]
  },
  {
   "cell_type": "code",
   "execution_count": 26,
   "id": "97e8d36e",
   "metadata": {},
   "outputs": [],
   "source": [
    "# Initialise model\n",
    "lstm = LSTMLanguageModel(\n",
    "    vocab_size=len(subword_tokenisation_train_vocab),\n",
    "    embed_size=EMBEDDING_SIZE,\n",
    "    hidden_size=HIDDEN_SIZE,\n",
    "    num_layers=NUM_LAYERS,\n",
    "    dropout=0.2,\n",
    "    pad_idx=subword_tokenisation_train_vocab[\"<pad>\"]\n",
    ").to(device)\n",
    "\n",
    "lstm_subword_tokenised_dropout_02_filename = \"model_weights_lstm_word_tokens_False_dropout_0.2_20250906-092405\"\n",
    "\n",
    "lstm_subword_tokenised_dropout_02 = load_model(model_initialised=lstm, filename=lstm_subword_tokenised_dropout_02_filename, device=device)"
   ]
  },
  {
   "cell_type": "code",
   "execution_count": 27,
   "id": "10b89100",
   "metadata": {},
   "outputs": [
    {
     "name": "stderr",
     "output_type": "stream",
     "text": [
      "100%|██████████| 1442/1442 [01:45<00:00, 13.69it/s]\n"
     ]
    },
    {
     "name": "stdout",
     "output_type": "stream",
     "text": [
      "Cross Entropy Loss: 7.988271788982016\n",
      "Perplexity: 2946.200900362328\n"
     ]
    }
   ],
   "source": [
    "# Cross Entropy Loss\n",
    "lstm_subword_tokenised_dropout_02_cross_entropy_loss = evaluate_model(\n",
    "    model=lstm_subword_tokenised_dropout_02,\n",
    "    converted_tokenised_docs=subword_tokenised_numericalised_docs,\n",
    "    seq_len=SEQUENCE_LENGTH,\n",
    "    batch_size=BATCH_SIZE,\n",
    "    criterion=nn.CrossEntropyLoss(ignore_index=subword_tokenisation_train_vocab[\"<pad>\"]),\n",
    "    device=device,\n",
    "    vocab_size=len(subword_tokenisation_train_vocab)\n",
    ")\n",
    "print(f\"Cross Entropy Loss: {lstm_subword_tokenised_dropout_02_cross_entropy_loss}\")\n",
    "\n",
    "# Perplexity\n",
    "lstm_subword_tokenised_dropout_02_perplexity = math.exp(lstm_subword_tokenised_dropout_02_cross_entropy_loss)\n",
    "print(f\"Perplexity: {lstm_subword_tokenised_dropout_02_perplexity}\")"
   ]
  },
  {
   "cell_type": "code",
   "execution_count": 28,
   "id": "bfb09824",
   "metadata": {},
   "outputs": [
    {
     "name": "stderr",
     "output_type": "stream",
     "text": [
      "100%|██████████| 300/300 [00:01<00:00, 231.91it/s]\n"
     ]
    },
    {
     "name": "stdout",
     "output_type": "stream",
     "text": [
      "Generated Sequence from ['Today'] with temperature 0.7:\n",
      "Today ,\" ▁said ▁a ▁wall ▁street ▁arbit rag eur . \n",
      " ▁but ▁he ▁said ▁the ▁bank ▁regards ▁the ▁over draft \n",
      " ▁reference ▁rate , ▁based ▁on ▁short - term ▁rate ▁trends , ▁as ▁its ▁key \n",
      " ▁prime ▁lending ▁rate ▁to ▁corporate ▁customers . ▁the ▁loan ▁reference \n",
      " ▁rate ▁is ▁based ▁on ▁longer ▁term ▁trends . \n",
      " ▁the ▁bank ▁is ▁the ▁latest ▁to ▁cut ▁prime ▁rates ▁in ▁the ▁next ▁few ▁weeks . \n",
      " ▁given ▁an ▁average ▁yield ▁of ▁1 . 09 ▁billion ▁ dl rs ▁of ▁j uly ▁accounting ▁to \n",
      " ▁three ▁m ln ▁ dl rs ▁to ▁226 . 4 ▁m ln ▁ dl rs , ▁compared ▁with ▁169 . 2 ▁m ln ▁ dl rs \n",
      " ▁in ▁year ▁to ▁de cember ▁31 , ▁1986 . \n",
      " ▁shr ▁18 . 9 ▁m ln ▁vs ▁5 . 7 ▁m ln \n",
      " ▁note ▁- ▁full ▁name ▁is ▁data ▁services , ▁inc ▁said ▁it ▁will \n",
      " ▁offer ▁5 . 0 ▁m ln ▁ dl rs ▁cash ▁of ▁2 . 2 ▁m ln ▁common ▁shares ▁of ▁stock ▁for ▁each ▁ uc cel \n",
      " ▁wholly ▁based ▁on ▁50 ▁p ct ▁of ▁the ▁equity ▁in ▁j une , ▁it ▁added . \n",
      " ▁the ▁application ▁of ▁the ▁additional ▁48 ▁p ct ▁since ▁the \n",
      " ▁total ▁outstanding , ▁which ▁operates ▁46 ▁branches , ▁has ▁been ▁completed ▁in \n",
      " ▁principle ▁to ▁purchase ▁about ▁10 ▁m ln ▁va ▁shares ▁to ▁9 . 6 ▁m ln ▁ dl rs ▁of ▁fox ▁assets ▁of \n",
      " ▁n orc ros ▁p lc ▁& lt ; dl rs > ▁having ▁t bs , ▁which ▁is ▁worth ▁ab outh ▁55 ▁ dl rs ▁per ▁share . \n",
      " ▁\" we 've ▁taken ▁up ▁with ▁all ▁alternatives ▁which ▁were ▁largely ▁complementary \n",
      " ▁unless ▁the ▁government 's ▁programme 's ▁current ▁management ▁and \n",
      " ▁tobacco ▁spirits . \n",
      " ▁ \n",
      " ▁the\n",
      "\n"
     ]
    },
    {
     "name": "stderr",
     "output_type": "stream",
     "text": [
      "100%|██████████| 300/300 [00:00<00:00, 353.21it/s]\n"
     ]
    },
    {
     "name": "stdout",
     "output_type": "stream",
     "text": [
      "Generated Sequence from ['Today'] with temperature 1.0:\n",
      "Today >. \n",
      " ▁j apan 's ▁letter ▁follows ▁a ▁12 ▁p ct ▁increase ▁in ▁s ept ember ▁single - family ▁unit ▁starts ▁a ▁1 . 5 ▁p ct ▁to ▁1 . 73 \n",
      " ▁m ln ▁s tg , ▁it ▁is ▁also ▁most ▁for ▁good ▁recovery , ▁c omin co ▁said ▁in \n",
      " ▁view ▁that ▁levels ▁should ▁be ▁at ▁least ▁behind ▁this ▁time . \n",
      " ▁the ▁officials ▁said ▁ger many ▁had ▁practically ▁no ▁growth ▁in ▁the ▁long ▁term \n",
      " ▁and ▁bond ▁prices ▁was ▁not ▁immediately ▁clear ▁the ▁company \n",
      " ▁will ▁be ▁able ▁to ▁offer ▁specifics ▁from ▁the ▁sale ▁of ▁a ▁controlling ▁of \n",
      " ▁its ▁reliance ▁standard ▁life \n",
      " ▁insurance ▁co . ▁a ▁d alian ▁subsidiary , ▁r - held ▁dat eline ron \n",
      " ▁equipment ▁to ▁carry lift ▁as ▁s ears ▁ roe buck ▁and ▁co \n",
      " ▁& lt ; s > ▁converted ▁subsidiary ▁senior ▁management ▁of \n",
      " ▁international ▁data ▁corp ▁said ▁it ▁has ▁agreed ▁to \n",
      " ▁combine ▁its ▁cocoa ▁processing ▁businesses ▁with ▁those ▁of ▁s . ▁ . c . ▁terms , \n",
      " ▁effective ▁yesterday , ▁within ▁400 ▁miles ▁east ▁of ▁v ancouver , ▁produced \n",
      " ▁2 . 9 ▁m ln ▁barrels ▁a ▁year ▁earlier . \n",
      " ▁pre tax ▁earnings ▁fell ▁7 . 2 ▁p ct ▁to ▁3 . 48 ▁billion ▁pes os ▁to ▁the \n",
      " ▁dollar / 92 ▁to ▁17 . 6 ▁p ct ▁from ▁18 . 25 , ▁effective ▁tomorrow . \n",
      " ▁the ▁new ▁rate ▁is ▁based ▁on ▁a ▁basket ▁year ▁of ▁45 . 5 ▁p ct ▁this ▁year , \n",
      " ▁with ▁one ▁to ▁eight ▁billion ▁ dl rs ▁by ▁about ▁five ▁p ct . \n",
      " ▁in ▁an ▁initial ▁comment , ▁including ▁a ▁employee ▁stock ▁at ▁the ▁same \n",
      " ▁period ▁from ▁a ▁deficit ▁of ▁1 , 450 ▁billion ▁in ▁the ▁week ▁ended ▁ap ril ▁4 , ▁1987 , \n",
      " ▁sales\n",
      "\n"
     ]
    },
    {
     "name": "stderr",
     "output_type": "stream",
     "text": [
      "100%|██████████| 300/300 [00:00<00:00, 372.94it/s]"
     ]
    },
    {
     "name": "stdout",
     "output_type": "stream",
     "text": [
      "Generated Sequence from ['Today'] with temperature 1.3:\n",
      "Today 's ▁further ▁cut ▁since ▁they ▁should ▁earn ▁more ▁cash \n",
      " ▁or ▁before ▁in ▁fiscal ▁production ▁came . \n",
      " ▁speaking ▁at ▁a ▁forum ▁for ▁indust ria lists ▁of ▁major ▁central ▁banks ▁meeting \n",
      " ▁today 's ▁federal ▁reserve . \n",
      " ▁the ▁news ▁eroded ▁the ▁most ▁immediate ▁to ▁over ▁the ▁r eval uation \n",
      " ▁general ▁meeting , ▁the ▁meat ▁investment ▁firm ▁said . \n",
      " ▁sci - med ▁said ▁it ▁continues ▁to ▁be ▁identified ▁affected ▁by ▁ ron ald \n",
      " ▁per elman , ▁offered ▁20 ▁ dl rs ▁lower ▁than ▁an ▁average ▁yield ▁1 . 04 ▁ dl rs ▁in ▁liqu idation \n",
      " ▁value ▁of ▁a ▁stock ▁in ▁each ▁share ▁of ▁arrays ▁bought ▁or ▁less ▁than \n",
      " ▁2 . 4 ▁in ▁response ▁to ▁its ▁oil ▁market .\" \n",
      " ▁ donald ▁trump , ▁rose ▁to ▁1 . 0 ▁m ln ▁ dl rs ▁reflecting ▁proposed ▁to \n",
      " ▁hol stein / 1 , 000 ▁when ▁h ilton ▁petroleum ▁spending ▁mill ▁workers \n",
      " ▁at ▁one ▁of ▁its ▁products , ▁at las ▁group , ▁prices ▁collapsed ▁by ▁the ▁end \n",
      " ▁of ▁an ▁oil ▁industry . ▁however , ▁government ▁officials ▁said . \n",
      " ▁au str alia 's ▁latest ▁rates ▁allot ▁are ▁not ▁going ▁to ▁be ▁more ▁early .\" \n",
      " ▁bun des bank ▁officials ▁had ▁shown ▁fed ▁the ▁chances ▁to \n",
      " ▁be ▁what ▁i ran ▁know ▁before ▁the ▁fed ▁takes ▁sales ▁of ▁policy \n",
      " ▁than ▁a ▁15 ▁p ct ▁increase ▁in ▁gross ▁national ▁center ▁of ▁next ▁oct ober ▁as ▁of \n",
      " ▁export ▁subsidies ▁from ▁other ▁leading ▁paper ▁products , ▁the ▁gulf ▁for \n",
      " ▁ ku wait ▁tot alled ▁about ▁20 ▁billion ▁ dl rs ▁by ▁be cor 's ▁forecast ▁to ▁oct ▁1 . \n",
      " ▁he ▁noted ▁that ▁while ▁the ▁o pec ▁meeting ▁in ▁l j ens ▁to ▁buy ▁a \n",
      " ▁six ▁p ct ▁rate ▁rate ▁to ▁7 - 1 /\n",
      "\n"
     ]
    },
    {
     "name": "stderr",
     "output_type": "stream",
     "text": [
      "\n"
     ]
    }
   ],
   "source": [
    "# Generate text\n",
    "starting_sequence = [\"Today\"]\n",
    "temperatures = [0.7, 1.0, 1.3]\n",
    "\n",
    "for temperature in temperatures:\n",
    "    lstm_subword_tokenised_dropout_02_generated_sequence = generate_text(\n",
    "        model=lstm_subword_tokenised_dropout_02,\n",
    "        train_vocab=subword_tokenisation_train_vocab,\n",
    "        start_seq=starting_sequence,\n",
    "        temperature=temperature\n",
    "    )\n",
    "    print(f\"Generated Sequence from {starting_sequence} with temperature {temperature}:\")\n",
    "    print(lstm_subword_tokenised_dropout_02_generated_sequence)\n",
    "    print()"
   ]
  }
 ],
 "metadata": {
  "kernelspec": {
   "display_name": "venv",
   "language": "python",
   "name": "python3"
  },
  "language_info": {
   "codemirror_mode": {
    "name": "ipython",
    "version": 3
   },
   "file_extension": ".py",
   "mimetype": "text/x-python",
   "name": "python",
   "nbconvert_exporter": "python",
   "pygments_lexer": "ipython3",
   "version": "3.13.5"
  }
 },
 "nbformat": 4,
 "nbformat_minor": 5
}
