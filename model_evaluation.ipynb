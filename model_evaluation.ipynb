{
 "cells": [
  {
   "cell_type": "markdown",
   "id": "ee715213",
   "metadata": {},
   "source": [
    "## Imports"
   ]
  },
  {
   "cell_type": "code",
   "execution_count": 1,
   "id": "fda6dba4",
   "metadata": {},
   "outputs": [],
   "source": [
    "import math\n",
    "from src.model_evaluation import load_model, evaluate_model, generate_text\n",
    "from src.model_training import RNNLanguageModel, LSTMLanguageModel\n",
    "import numpy as np\n",
    "import os\n",
    "import pickle\n",
    "import random\n",
    "import torch\n",
    "import torch.nn as nn"
   ]
  },
  {
   "cell_type": "markdown",
   "id": "c7eaec17",
   "metadata": {},
   "source": [
    "## Setup"
   ]
  },
  {
   "cell_type": "code",
   "execution_count": 2,
   "id": "c53afb55",
   "metadata": {},
   "outputs": [],
   "source": [
    "# Device agnostic code\n",
    "device = torch.device(\"cuda\" if torch.cuda.is_available() else \"cpu\")\n",
    "\n",
    "# Set seeds\n",
    "seed = 42\n",
    "torch.manual_seed(seed)\n",
    "torch.cuda.manual_seed(seed)\n",
    "torch.cuda.manual_seed_all(seed)\n",
    "torch.backends.cudnn.deterministic = True\n",
    "torch.backends.cudnn.benchmark = False\n",
    "torch.backends.cudnn.enabled = False\n",
    "random.seed(seed)\n",
    "np.random.seed(seed)"
   ]
  },
  {
   "cell_type": "markdown",
   "id": "9d781bbf",
   "metadata": {},
   "source": [
    "## Load Data"
   ]
  },
  {
   "cell_type": "code",
   "execution_count": 3,
   "id": "d3d0cd57",
   "metadata": {},
   "outputs": [],
   "source": [
    "with open(os.path.normpath(os.path.join(\"data\", \"word_tokenisation_reuters_data.pkl\")), \"rb\") as f:\n",
    "    word_tokenised_numericalised_docs = pickle.load(f)\n",
    "\n",
    "with open(os.path.normpath(os.path.join(\"data\", \"word_tokenisation_reuters_train_vocab.pkl\")), \"rb\") as f:\n",
    "    word_tokenisation_train_vocab = pickle.load(f)\n",
    "\n",
    "with open(os.path.normpath(os.path.join(\"data\", \"subword_tokenisation_reuters_data.pkl\")), \"rb\") as f:\n",
    "    subword_tokenised_numericalised_docs = pickle.load(f)\n",
    "\n",
    "with open(os.path.normpath(os.path.join(\"data\", \"subword_tokenisation_reuters_train_vocab.pkl\")), \"rb\") as f:\n",
    "    subword_tokenisation_train_vocab = pickle.load(f)"
   ]
  },
  {
   "cell_type": "markdown",
   "id": "de3cd6d5",
   "metadata": {},
   "source": [
    "## Set Hyperparameters"
   ]
  },
  {
   "cell_type": "code",
   "execution_count": 4,
   "id": "a4bc9f95",
   "metadata": {},
   "outputs": [],
   "source": [
    "EMBEDDING_SIZE = 128\n",
    "HIDDEN_SIZE = 256\n",
    "NUM_LAYERS = 2\n",
    "DROPOUT = 0.0\n",
    "BATCH_SIZE = 32"
   ]
  },
  {
   "cell_type": "markdown",
   "id": "a5666e8f",
   "metadata": {},
   "source": [
    "## RNN"
   ]
  },
  {
   "cell_type": "markdown",
   "id": "f5805cb3",
   "metadata": {},
   "source": [
    "### Word Tokenisation, Context Length = 16"
   ]
  },
  {
   "cell_type": "code",
   "execution_count": 5,
   "id": "d5c1ca30",
   "metadata": {},
   "outputs": [],
   "source": [
    "# Initialise model\n",
    "rnn = RNNLanguageModel(\n",
    "    vocab_size=len(word_tokenisation_train_vocab),\n",
    "    embed_size=EMBEDDING_SIZE,\n",
    "    hidden_size=HIDDEN_SIZE,\n",
    "    num_layers=NUM_LAYERS,\n",
    "    dropout=DROPOUT,\n",
    "    pad_idx=word_tokenisation_train_vocab[\"<pad>\"]\n",
    ").to(device)\n",
    "\n",
    "rnn_word_tokenised_context_16_filename = \"model_weights_rnn_word_tokens_True_context_16_20250903-112215\"\n",
    "\n",
    "rnn_word_tokenised_context_16 = load_model(model_initialised=rnn, filename=rnn_word_tokenised_context_16_filename, device=device)"
   ]
  },
  {
   "cell_type": "code",
   "execution_count": 6,
   "id": "f8613100",
   "metadata": {},
   "outputs": [
    {
     "name": "stderr",
     "output_type": "stream",
     "text": [
      "100%|██████████| 1194/1194 [00:25<00:00, 46.41it/s]"
     ]
    },
    {
     "name": "stdout",
     "output_type": "stream",
     "text": [
      "Cross Entropy Loss: 8.835175214700364\n",
      "Perplexity: 6871.757773390407\n"
     ]
    },
    {
     "name": "stderr",
     "output_type": "stream",
     "text": [
      "\n"
     ]
    }
   ],
   "source": [
    "# Cross Entropy Loss\n",
    "rnn_word_tokenised_context_16_cross_entropy_loss = evaluate_model(\n",
    "    model=rnn_word_tokenised_context_16,\n",
    "    converted_tokenised_docs=word_tokenised_numericalised_docs,\n",
    "    seq_len=16,\n",
    "    batch_size=BATCH_SIZE,\n",
    "    criterion=nn.CrossEntropyLoss(ignore_index=word_tokenisation_train_vocab[\"<pad>\"]),\n",
    "    device=device,\n",
    "    vocab_size=len(word_tokenisation_train_vocab)\n",
    ")\n",
    "print(f\"Cross Entropy Loss: {rnn_word_tokenised_context_16_cross_entropy_loss}\")\n",
    "\n",
    "# Perplexity\n",
    "rnn_word_tokenised_context_16_perplexity = math.exp(rnn_word_tokenised_context_16_cross_entropy_loss)\n",
    "print(f\"Perplexity: {rnn_word_tokenised_context_16_perplexity}\")"
   ]
  },
  {
   "cell_type": "code",
   "execution_count": 7,
   "id": "23963e99",
   "metadata": {},
   "outputs": [
    {
     "name": "stderr",
     "output_type": "stream",
     "text": [
      "100%|██████████| 300/300 [00:00<00:00, 508.69it/s]\n"
     ]
    },
    {
     "name": "stdout",
     "output_type": "stream",
     "text": [
      "Generated Sequence from ['Today'] with temperature 0.7:\n",
      "Today . stoltenberg said that , partly due to corporate restructuring , the official app news agency said . the industry analysts said that refiners may have been cut but the purchase price was financed . 88 pct from 16 . 3 mln barrels to acquire ( 25 ) 120-150 . 9 mln vs 481 . 5 mln avg shrs 4 , 565 , 752 vs 4 , 883 , 711 note 1986 nine month , datacard was concerned about the u . s . , yaacobi said he expects israel to extend its recent trend toward lower current market conditions . joske ' s has 26 stores in texas and other issues build as reagan ' s federal systems division , which has been hit with several executive defections , may also be put on the block . contel officials declined to more up to 30 pct on the same period in 1985 . the company ' s life insurance result fell to 365 . 7 mln guilders after 428 . 4 mln in 1985 . at lme , and use of documents will be the trading issue is likely to face how what he will raise its official prime rate to 16 . 00 pct from 7 . 20 pct rate in the previous week , the finance ministry said . the inflation rate estimated at 14 . 50 bolivars -- the international monetary fund ( imf ) and oil import tariff . traders say the market was quoted between one and 5 . 35 pct of the delaware-based company . the tariff cuts and protection of intellectual property . i am afraid this time we have to give more than take from the worst area . for the acquisition , dotronix will also be agreed at the risk\n",
      "\n"
     ]
    },
    {
     "name": "stderr",
     "output_type": "stream",
     "text": [
      "100%|██████████| 300/300 [00:00<00:00, 552.00it/s]\n"
     ]
    },
    {
     "name": "stdout",
     "output_type": "stream",
     "text": [
      "Generated Sequence from ['Today'] with temperature 1.0:\n",
      "Today for these business and unfavorable lease comitments . 1987 oper net 169 . 6 mln vs 36 . 4 mln sales 12 . 5 mln vs 4 . 6 mln speciality chemicals 6 . 2 mln vs 54 . 0 mln 12 mths shr 1 . 81 dlrs vs 1 . 18 dlrs net 20 . 3 mln vs 439 , 000 note company went public in the light of the precipitous falls on october 14 . 50 yen in tokyo - brokers phillips , has made little difference whether the tariffs were growing at shipment , and despite the provincial money making its own common shares . on capital prices for a year-on-year more increase in its restructuring . the company said results will acquire all of cf industries inc said usda of the electronics action was unchanged , on expansion of money market rates . we should pay particular attention to the acquisition would lift jannock imaging revenues against the agreement on louvre help in the continuing market , where while a delegation for penetrating markets to only contact see recent early next three months with the shares and could be 96 . 8 cents a lb compared with 1 . 76 dlrs . holders would be seen before this week is further at for even rising 6 . 1 pct in january for the first quarter of 1987 it would sell its 38 pct of the bond financing during the year was set at a provisional , seasonally-adjusted 197 . , real estate development company , to 17 . 0 mln dlrs , down year in the coming weeks ending june 30 of the bid and exchange rate adjustments the current coffee pact and that will reduce their trade , said the fed will be taken on\n",
      "\n"
     ]
    },
    {
     "name": "stderr",
     "output_type": "stream",
     "text": [
      "100%|██████████| 300/300 [00:00<00:00, 520.06it/s]"
     ]
    },
    {
     "name": "stdout",
     "output_type": "stream",
     "text": [
      "Generated Sequence from ['Today'] with temperature 1.3:\n",
      "Today for any move seen only to shareholders , he said . the terms of the last meeting was as five days of their bilateral crop in washington after december 1 , 1987 . and producer of telephone answering machines . for 1986 . j . terence murray , chairman and canada , along last year . we are street they expect attacks on goods by both canada and it is unlikely that the parts catalog division wholesales parts and needles to june and feed , aid japanese oil at trade above 1 . 87 production rates fell to 200 . 6 pct this week . the cut might imposed on many if after washington ' s going to be more rain and efficiency and on the bidding . trade deficit and they is in direct contravention of the government ' s most vexing and persistent problems . the six months in a surplus at 3 . 15 mln in 1985 , while gas demand and has five to 51 pct expansion of british printing and communication inc> 1st qtr net shr 75 cts vs 64 cts net 11 . 9 mln vs 161 . 5 mln revs 3 . 60 mln average shares , the five billion dlr joint dairy farm said it raised promptly operates revised december . norway relies on oil for about the restructuring over the past 3 . caremark net of 201 . six mln marks . analysts have said they will hit zccm ' s soybeans that present with the other trading and trading round , said canadian companies ' board ( hard ) said . japan , the week had seven pct , he said , as opec has said in a statement . the santos reported qtr net shr 15 cts vs 14\n",
      "\n"
     ]
    },
    {
     "name": "stderr",
     "output_type": "stream",
     "text": [
      "\n"
     ]
    }
   ],
   "source": [
    "# Generate text\n",
    "starting_sequence = [\"Today\"]\n",
    "temperatures = [0.7, 1.0, 1.3]\n",
    "\n",
    "for temperature in temperatures:\n",
    "    rnn_word_tokenised_context_16_generated_sequence = generate_text(\n",
    "        model=rnn_word_tokenised_context_16,\n",
    "        train_vocab=word_tokenisation_train_vocab,\n",
    "        start_seq=starting_sequence,\n",
    "        temperature=temperature\n",
    "    )\n",
    "    print(f\"Generated Sequence from {starting_sequence} with temperature {temperature}:\")\n",
    "    print(rnn_word_tokenised_context_16_generated_sequence)\n",
    "    print()"
   ]
  },
  {
   "cell_type": "markdown",
   "id": "68565712",
   "metadata": {},
   "source": [
    "### Word Tokenisation, Context Length = 32"
   ]
  },
  {
   "cell_type": "code",
   "execution_count": 9,
   "id": "2a3f5931",
   "metadata": {},
   "outputs": [],
   "source": [
    "# Initialise model\n",
    "rnn = RNNLanguageModel(\n",
    "    vocab_size=len(word_tokenisation_train_vocab),\n",
    "    embed_size=EMBEDDING_SIZE,\n",
    "    hidden_size=HIDDEN_SIZE,\n",
    "    num_layers=NUM_LAYERS,\n",
    "    dropout=DROPOUT,\n",
    "    pad_idx=word_tokenisation_train_vocab[\"<pad>\"]\n",
    ").to(device)\n",
    "\n",
    "rnn_word_tokenised_context_32_filename = \"model_weights_rnn_word_tokens_True_context_32_20250903-090142\"\n",
    "\n",
    "rnn_word_tokenised_context_32 = load_model(model_initialised=rnn, filename=rnn_word_tokenised_context_32_filename, device=device)"
   ]
  },
  {
   "cell_type": "code",
   "execution_count": 10,
   "id": "f210f265",
   "metadata": {},
   "outputs": [
    {
     "name": "stderr",
     "output_type": "stream",
     "text": [
      "100%|██████████| 1073/1073 [00:41<00:00, 26.11it/s]"
     ]
    },
    {
     "name": "stdout",
     "output_type": "stream",
     "text": [
      "Cross Entropy Loss: 10.025398466093787\n",
      "Perplexity: 22593.069209792488\n"
     ]
    },
    {
     "name": "stderr",
     "output_type": "stream",
     "text": [
      "\n"
     ]
    }
   ],
   "source": [
    "# Cross Entropy Loss\n",
    "rnn_word_tokenised_context_32_cross_entropy_loss = evaluate_model(\n",
    "    model=rnn_word_tokenised_context_32,\n",
    "    converted_tokenised_docs=word_tokenised_numericalised_docs,\n",
    "    seq_len=32,\n",
    "    batch_size=BATCH_SIZE,\n",
    "    criterion=nn.CrossEntropyLoss(ignore_index=word_tokenisation_train_vocab[\"<pad>\"]),\n",
    "    device=device,\n",
    "    vocab_size=len(word_tokenisation_train_vocab)\n",
    ")\n",
    "print(f\"Cross Entropy Loss: {rnn_word_tokenised_context_32_cross_entropy_loss}\")\n",
    "\n",
    "# Perplexity\n",
    "rnn_word_tokenised_context_32_perplexity = math.exp(rnn_word_tokenised_context_32_cross_entropy_loss)\n",
    "print(f\"Perplexity: {rnn_word_tokenised_context_32_perplexity}\")"
   ]
  },
  {
   "cell_type": "code",
   "execution_count": 11,
   "id": "af7d75c4",
   "metadata": {},
   "outputs": [
    {
     "name": "stderr",
     "output_type": "stream",
     "text": [
      "100%|██████████| 300/300 [00:00<00:00, 506.68it/s]\n"
     ]
    },
    {
     "name": "stdout",
     "output_type": "stream",
     "text": [
      "Generated Sequence from ['Today'] with temperature 0.7:\n",
      "Today can ' t be a currency , they said . the tender calls for shipment of 6 , 000 tonnes . shippers predicted it will only disappear if people lose confidence in the direction with the increased loan . the sources said the ec nations were generally weak throughout the central bank council gives its opinion on this theme only every 14 days , this is hardly probable . euromark rates scarcely responded to the central bankers comments , with six months funds ending unaltered at around 3-7/8 pct . eurodollars for the same maturity rose a fractional 1/16 pct from yesterday to around 6-11/16 pct . sterling dipped to end at 2 . 952/956 marks after 2 . 960/965 last night . the swiss franc firmed slightly to 120 . 30/45 marks per 100 from 120 . 25/40 , with the yen soaring however to 1 . 2570/90 marks per 100 from 1 . 2515/35 yesterday . ems currencies saw the french franc end unchanged from last night . in the second quarter , the company ' s profits . i think the stock price later on the basis of perelman ' s agricultural products should not to work . the world surplus will probably be in international financial markets at citibank . . . , there is no assurance the group of seven ( g-7 ) comminuique issued in washington contained nothing basically new , they said . grain demand , which has proposed apparently more profitable minimum and issue so a substantial erosion of export markets could not be in japan . he said he did not know who had no large 25 pct interest in tyranex ' s option to buy the tyranite gold mine by spending up to five mln dlrs on exploration , development\n",
      "\n"
     ]
    },
    {
     "name": "stderr",
     "output_type": "stream",
     "text": [
      " 83%|████████▎ | 248/300 [00:00<00:00, 569.27it/s]\n"
     ]
    },
    {
     "name": "stdout",
     "output_type": "stream",
     "text": [
      "Generated Sequence from ['Today'] with temperature 1.0:\n",
      "Today , said it has acquired the investors to exchange closing , said an annual report added . it said the venture would be his proposal to acquire the 18 dlrs for the first quarter of 1987 from 2 . 78 billion a year ago after tax proceeds from several years . a further appreciation of the dollar would hinder washington ' s efforts to reduce trade surplus with the united states , as well as total imports . the transaction would be operating , by drawing members of the international cocoa organization contract have been offered four products in last week ' s election , or 62 . 2 billion pesos in 1986 . noranda had prime the etl would be lost to common stock , was the largest u . s . subsidiary , chene investments inc , bought 2 . 55 mln units . oil to 9 , 1986 , and soft currency ) but in paris on the imf ' s policy-making quota system deadline for a u . s . tenderloin steak in which u . s . meat producers claim will cut off their exports . but some economists now have allowed the kuwaitis . in adddition of the exchequer nigel lawson declined to give any answer how they would react , schelsinger said the ec oilseeds regime , provided the group of seven -- the 3 , 211 billion lire rose 6 . 3 pct to 32 . 6 billion . .\n",
      "\n"
     ]
    },
    {
     "name": "stderr",
     "output_type": "stream",
     "text": [
      " 48%|████▊     | 145/300 [00:00<00:00, 498.99it/s]"
     ]
    },
    {
     "name": "stdout",
     "output_type": "stream",
     "text": [
      "Generated Sequence from ['Today'] with temperature 1.3:\n",
      "Today he is seeking low since rain ' s system rose an unadjusted to end-march to further climbs . the u . s . deficit , despite progress seen stagnating power and exaggerated problems where dealers is one reason for cautious -- v overseas sales are expected to announce it over the last 17 years , and that short-term be imposed from production of a tax held by british subsidies . speaking at this week ' s session would be convened to adopt the resolution after the first u . s . taiwan ' s gdp hit some of the burden of trade friction and economic restructuring away from the employees , the industrial country held to one of the company . zinn and certain affiliates make changes for gillette bank &lt smaller for coffee sugar by volcker and beans . trading on nasdaq 70 .\n",
      "\n"
     ]
    },
    {
     "name": "stderr",
     "output_type": "stream",
     "text": [
      "\n"
     ]
    }
   ],
   "source": [
    "# Generate text\n",
    "starting_sequence = [\"Today\"]\n",
    "temperatures = [0.7, 1.0, 1.3]\n",
    "\n",
    "for temperature in temperatures:\n",
    "    rnn_word_tokenised_context_32_generated_sequence = generate_text(\n",
    "        model=rnn_word_tokenised_context_32,\n",
    "        train_vocab=word_tokenisation_train_vocab,\n",
    "        start_seq=starting_sequence,\n",
    "        temperature=temperature\n",
    "    )\n",
    "    print(f\"Generated Sequence from {starting_sequence} with temperature {temperature}:\")\n",
    "    print(rnn_word_tokenised_context_32_generated_sequence)\n",
    "    print()"
   ]
  },
  {
   "cell_type": "markdown",
   "id": "8829422c",
   "metadata": {},
   "source": [
    "### Subword Tokenisation, Context Length = 16"
   ]
  },
  {
   "cell_type": "code",
   "execution_count": 13,
   "id": "57c6f511",
   "metadata": {},
   "outputs": [],
   "source": [
    "# Initialise model\n",
    "rnn = RNNLanguageModel(\n",
    "    vocab_size=len(subword_tokenisation_train_vocab),\n",
    "    embed_size=EMBEDDING_SIZE,\n",
    "    hidden_size=HIDDEN_SIZE,\n",
    "    num_layers=NUM_LAYERS,\n",
    "    dropout=DROPOUT,\n",
    "    pad_idx=subword_tokenisation_train_vocab[\"<pad>\"]\n",
    ").to(device)\n",
    "\n",
    "rnn_subword_tokenised_context_16_filename = \"model_weights_rnn_word_tokens_False_context_16_20250903-120755\"\n",
    "\n",
    "rnn_subword_tokenised_context_16 = load_model(model_initialised=rnn, filename=rnn_subword_tokenised_context_16_filename, device=device)"
   ]
  },
  {
   "cell_type": "code",
   "execution_count": 14,
   "id": "1a8a09fb",
   "metadata": {},
   "outputs": [
    {
     "name": "stderr",
     "output_type": "stream",
     "text": [
      "100%|██████████| 1566/1566 [00:45<00:00, 34.47it/s]\n"
     ]
    },
    {
     "name": "stdout",
     "output_type": "stream",
     "text": [
      "Cross Entropy Loss: 7.443448190411997\n",
      "Perplexity: 1708.631762647215\n"
     ]
    }
   ],
   "source": [
    "# Cross Entropy Loss\n",
    "rnn_subword_tokenised_context_16_cross_entropy_loss = evaluate_model(\n",
    "    model=rnn_subword_tokenised_context_16,\n",
    "    converted_tokenised_docs=subword_tokenised_numericalised_docs,\n",
    "    seq_len=16,\n",
    "    batch_size=BATCH_SIZE,\n",
    "    criterion=nn.CrossEntropyLoss(ignore_index=subword_tokenisation_train_vocab[\"<pad>\"]),\n",
    "    device=device,\n",
    "    vocab_size=len(subword_tokenisation_train_vocab)\n",
    ")\n",
    "print(f\"Cross Entropy Loss: {rnn_subword_tokenised_context_16_cross_entropy_loss}\")\n",
    "\n",
    "# Perplexity\n",
    "rnn_subword_tokenised_context_16_perplexity = math.exp(rnn_subword_tokenised_context_16_cross_entropy_loss)\n",
    "print(f\"Perplexity: {rnn_subword_tokenised_context_16_perplexity}\")"
   ]
  },
  {
   "cell_type": "code",
   "execution_count": 15,
   "id": "1517a572",
   "metadata": {},
   "outputs": [
    {
     "name": "stderr",
     "output_type": "stream",
     "text": [
      "100%|██████████| 300/300 [00:00<00:00, 414.05it/s]\n"
     ]
    },
    {
     "name": "stdout",
     "output_type": "stream",
     "text": [
      "Generated Sequence from ['Today'] with temperature 0.7:\n",
      "Today ▁we ▁can ▁be ▁achieved \n",
      " ▁or ▁as ▁well ▁as ▁a ▁result ▁of ▁declining \n",
      " ▁s ept - 3 / 4 ▁p ct ▁of ▁the ▁total , ▁from ▁7 44 , 200 ▁units , ▁or ▁6 . 2 ▁p ct ▁from ▁a ▁record ▁3 . 2 ▁p ct , \n",
      " ▁doubling ▁the ▁nominal ▁deficit ▁to ▁1 . 33 ▁0 . 50 ▁0 . 50 \n",
      " ▁end ▁stocks ▁0 . 22 ▁0 . 29 ▁0 . 52 ▁0 . 39 ▁0 . 39 ▁0 . 39 \n",
      " ▁th ailand ▁-- ▁foreign ▁exchange ▁1986 ▁marginal ▁care ▁review \n",
      " ▁before ▁the ▁ 568 ▁m ln ▁s tg ▁contested ▁bid ▁was ▁launched ▁last ▁s ept ember \n",
      " ▁the ▁decline ▁in ▁the ▁1987 , ▁already ▁has ▁already \n",
      " ▁or ▁take ▁in ▁the ▁near ▁future . ▁cam pe au . \n",
      " ▁on ▁ap ril ▁29 ▁to ▁tender ▁for ▁cash \n",
      " ▁per ▁share ▁from ▁previous ▁the ▁total , \n",
      " ▁based ▁on ▁ec ▁trade ▁spokesman , ▁vice ▁president ▁hel mut \n",
      " ▁sch les inger ▁said ▁he ▁saw ▁no ▁reason ▁to ▁lower ▁interest ▁rates \n",
      " ▁the ▁federal ▁reserve ▁entered ▁the ▁u . s . \n",
      " ▁benchmark ▁grade ▁before ▁the ▁four \n",
      " ▁shareholders ▁would ▁hold ▁its ▁own ▁shares ▁and ▁a ▁review ▁of ▁the ▁world ▁economy , \n",
      " ▁and ▁this ▁fall ▁in ▁recent ▁years , ▁and \n",
      " ▁sheltered ▁by ▁the ▁tax ▁system , ▁has ▁ample ▁room ▁for ▁change , ▁but ▁we ▁don 't ▁look ▁at ▁how ▁that ▁we \n",
      " ▁we ▁believe ▁we ▁remain ▁well ▁as \n",
      " ▁unprecedented ▁front - end ▁loading ▁of ▁public ▁works ▁expenditures . \n",
      " ▁the ▁ministry ▁said ▁tf - 1 's ▁forthcoming ▁sell - off ▁meant ▁that \n",
      " ▁j apan ese ▁finance ▁minister ▁ki ichi ▁m iy az awa \n",
      " ▁said ▁the ▁installed ▁cost ▁of ▁j apan . \n",
      " ▁the ▁ec ▁rule ▁were ▁on ▁a ▁two - way .\n",
      "\n"
     ]
    },
    {
     "name": "stderr",
     "output_type": "stream",
     "text": [
      " 95%|█████████▌| 286/300 [00:00<00:00, 436.70it/s]\n"
     ]
    },
    {
     "name": "stdout",
     "output_type": "stream",
     "text": [
      "Generated Sequence from ['Today'] with temperature 1.0:\n",
      "Today ▁to ▁include ▁pork \n",
      " ▁j apan ese ▁parts , ▁raw ▁has ▁been ▁down ▁on \n",
      " ▁the ▁proposed ▁merger ▁of ▁via com ▁says ▁it ▁has ▁often ▁going \n",
      " ▁to ▁be ▁closed ▁by ▁j ames ▁baker . \n",
      " ▁officials ▁say ▁the ▁infant ▁exchange ▁has ▁made ▁as ▁the \n",
      " ▁old ▁opening , ▁national ▁food grain ▁reserves ▁being iment \n",
      " ▁et ▁des ▁t rav aux ▁pu bl ics > ▁( b tp ) ▁has ▁emerged \n",
      " borg - war ner & lt ; bor > ▁which ▁computer ▁associates ' \n",
      " ▁routes , ▁and ▁it ▁( ▁60 ▁billion ▁ dl rs , ▁or ▁29 ▁c ts ▁per ▁share ▁after ▁an ▁amount ▁of \n",
      " ▁h olly f workers ▁co ▁& lt ; j h > ▁1 st ▁q tr ▁net \n",
      " ▁oper ▁shr ▁primary ▁87 ▁c ts ▁vs ▁three ▁c ts \n",
      " ▁net ▁152 , 360 ▁vs ▁94 , 141 \n",
      " ▁re vs ▁4 , 675 , 9 14 ▁vs ▁1 , 035 , 162 \n",
      " ▁forecast ▁for ▁cash ▁flow ▁by ▁0 . 50 ▁0 . 50 \n",
      " ▁ dl rs ▁cumulative ▁preferred ▁stock ▁and ▁the ▁anti - inflammatory \n",
      " ▁markets . , ▁but ▁we ▁feel ▁this ▁has ▁yet \n",
      " ▁would ▁have ▁broken ▁the ▁spirit ▁of ▁the ▁law ▁setting ▁up \n",
      " ▁com sat . com sat ▁is ▁the ▁u . s . ▁market ▁because ▁it ▁is \n",
      " ▁not ▁healthy ▁gradually ▁with ▁a ▁cut ▁in ▁interest ▁rates , ▁it ▁doesn 't ▁need ▁to \n",
      " ▁be ▁in ▁the ▁best ▁10 ,\" ▁he ▁said . \n",
      " ▁dome ▁responded ▁to ▁the ▁statement ▁by ▁suspending ▁discussions \n",
      " ▁with ▁t ran scan ada ▁in ▁order ▁to ▁pursue ▁talks \n",
      " ▁corp ▁& lt ; an sett ▁transport ▁co ▁inc >. \n",
      " ▁ gil lette . ▁interest ▁rate ▁cuts .\n",
      "\n"
     ]
    },
    {
     "name": "stderr",
     "output_type": "stream",
     "text": [
      "  5%|▌         | 15/300 [00:00<00:00, 334.27it/s]"
     ]
    },
    {
     "name": "stdout",
     "output_type": "stream",
     "text": [
      "Generated Sequence from ['Today'] with temperature 1.3:\n",
      "Today ▁inc ▁and ▁has \n",
      " ▁received ▁accept ances ▁of ▁which ▁last ▁government ▁may ▁it ▁will ▁show\n",
      "\n"
     ]
    },
    {
     "name": "stderr",
     "output_type": "stream",
     "text": [
      "\n"
     ]
    }
   ],
   "source": [
    "# Generate text\n",
    "starting_sequence = [\"Today\"]\n",
    "temperatures = [0.7, 1.0, 1.3]\n",
    "\n",
    "for temperature in temperatures:\n",
    "    rnn_subword_tokenised_context_16_generated_sequence = generate_text(\n",
    "        model=rnn_subword_tokenised_context_16,\n",
    "        train_vocab=subword_tokenisation_train_vocab,\n",
    "        start_seq=starting_sequence,\n",
    "        temperature=temperature\n",
    "    )\n",
    "    print(f\"Generated Sequence from {starting_sequence} with temperature {temperature}:\")\n",
    "    print(rnn_subword_tokenised_context_16_generated_sequence)\n",
    "    print()"
   ]
  },
  {
   "cell_type": "markdown",
   "id": "9117f0eb",
   "metadata": {},
   "source": [
    "### Subword Tokenisation, Context Length = 32"
   ]
  },
  {
   "cell_type": "code",
   "execution_count": 17,
   "id": "2eab8d6f",
   "metadata": {},
   "outputs": [],
   "source": [
    "# Initialise model\n",
    "rnn = RNNLanguageModel(\n",
    "    vocab_size=len(subword_tokenisation_train_vocab),\n",
    "    embed_size=EMBEDDING_SIZE,\n",
    "    hidden_size=HIDDEN_SIZE,\n",
    "    num_layers=NUM_LAYERS,\n",
    "    dropout=DROPOUT,\n",
    "    pad_idx=subword_tokenisation_train_vocab[\"<pad>\"]\n",
    ").to(device)\n",
    "\n",
    "rnn_subword_tokenised_context_32_filename = \"model_weights_rnn_word_tokens_False_context_32_20250903-101259\"\n",
    "\n",
    "rnn_subword_tokenised_context_32 = load_model(model_initialised=rnn, filename=rnn_subword_tokenised_context_32_filename, device=device)"
   ]
  },
  {
   "cell_type": "code",
   "execution_count": 18,
   "id": "c459e17c",
   "metadata": {},
   "outputs": [
    {
     "name": "stderr",
     "output_type": "stream",
     "text": [
      "100%|██████████| 1442/1442 [00:59<00:00, 24.06it/s]\n"
     ]
    },
    {
     "name": "stdout",
     "output_type": "stream",
     "text": [
      "Cross Entropy Loss: 8.542993121851499\n",
      "Perplexity: 5130.678147131693\n"
     ]
    }
   ],
   "source": [
    "# Cross Entropy Loss\n",
    "rnn_subword_tokenised_context_32_cross_entropy_loss = evaluate_model(\n",
    "    model=rnn_subword_tokenised_context_32,\n",
    "    converted_tokenised_docs=subword_tokenised_numericalised_docs,\n",
    "    seq_len=32,\n",
    "    batch_size=BATCH_SIZE,\n",
    "    criterion=nn.CrossEntropyLoss(ignore_index=subword_tokenisation_train_vocab[\"<pad>\"]),\n",
    "    device=device,\n",
    "    vocab_size=len(subword_tokenisation_train_vocab)\n",
    ")\n",
    "print(f\"Cross Entropy Loss: {rnn_subword_tokenised_context_32_cross_entropy_loss}\")\n",
    "\n",
    "# Perplexity\n",
    "rnn_subword_tokenised_context_32_perplexity = math.exp(rnn_subword_tokenised_context_32_cross_entropy_loss)\n",
    "print(f\"Perplexity: {rnn_subword_tokenised_context_32_perplexity}\")"
   ]
  },
  {
   "cell_type": "code",
   "execution_count": 19,
   "id": "0b96eba8",
   "metadata": {},
   "outputs": [
    {
     "name": "stderr",
     "output_type": "stream",
     "text": [
      "100%|██████████| 300/300 [00:00<00:00, 600.45it/s]\n"
     ]
    },
    {
     "name": "stdout",
     "output_type": "stream",
     "text": [
      "Generated Sequence from ['Today'] with temperature 0.7:\n",
      "Today ,\" ▁said ▁fil des . \n",
      " ▁he ▁said ▁sq ui bb ▁would ▁continue ▁to ▁1 . 34 ▁m ln \n",
      " ▁units ▁in ▁1986 , ▁from ▁all , 000 ▁ dl rs \n",
      " ▁against ▁results ▁for ▁12 . 5 ▁m ln ▁shares ▁of \n",
      " ▁4 . 9 ▁m ln ▁barrels ▁per ▁day ▁( b pd ) ▁output ▁ceiling ▁agreed ▁by ▁a ▁other ▁company , ▁entertainment ▁marketing ▁and \n",
      " ▁both ▁the ▁market ▁situation ▁that ▁the ▁fed ▁is ▁expected ▁to ▁add . \n",
      " ▁the ▁west ▁g erman ▁government ▁is ▁expected ▁to ▁come \n",
      " ▁this ▁year . \n",
      " ▁\" wage ▁main ▁own ▁price , ▁economists ▁said \n",
      " ▁the ▁business ▁will ▁be ▁announced ▁on ▁the ▁trade ▁will ▁currency ▁appreciation ▁on ▁the \n",
      " ▁substantial ▁lowest ▁of ▁the ▁discount \n",
      " ▁energy ▁futures ▁department ▁said . \n",
      " ▁an ▁attorney ▁for ▁ amm een , ▁who ▁is ▁named ▁as ▁it ▁dropped ▁and ▁sell ▁that ▁payments ▁since ▁consumers . \n",
      " ▁\" the ▁( can ada ) ▁ pc ▁and ▁said ▁the ▁study ▁and ▁is ▁subject ▁to \n",
      " ▁ceilings ▁determined ▁and ▁expand \n",
      " ▁the ▁energy ▁information ▁spokesman ▁said ▁the ▁government ▁would ▁withdraw ▁its ▁42 \n",
      " ▁billion ▁ dl rs . \n",
      " ▁k im ▁said ▁the ▁swing ▁of ▁south ▁k orea 's ▁current ▁account ▁to ▁a \n",
      " ▁surplus ▁of ▁14 ▁m ln ▁ dl rs ▁in ▁cash . \n",
      " ▁ner co ▁said ▁it ▁estimates ▁the ▁field ▁is ▁electrical \n",
      " ▁agreements ▁and ▁early \n",
      " ▁acquisitions ▁that ▁real ▁estate ▁50 ▁billion ▁six ▁p ct ▁for ▁the ▁rest ▁in ▁1987 . \n",
      " ▁but ▁they ▁also ▁call ▁for ▁stepped - up ▁spending ▁of ▁its ▁efforts ▁to ▁live ▁up ▁the \n",
      " ▁cocoa ▁is ▁for ▁the ▁united ▁states ▁if ▁the ▁government ▁had ▁began ▁target ▁of \n",
      " ▁the ▁end ▁of ▁new ▁y ork ▁e . \n",
      " ▁and ▁said ▁the ▁government ▁had ▁met ▁this ▁morning ▁at ▁2 . 4 ▁p\n",
      "\n"
     ]
    },
    {
     "name": "stderr",
     "output_type": "stream",
     "text": [
      "100%|██████████| 300/300 [00:00<00:00, 731.39it/s]\n"
     ]
    },
    {
     "name": "stdout",
     "output_type": "stream",
     "text": [
      "Generated Sequence from ['Today'] with temperature 1.0:\n",
      "Today ,\" ▁said \n",
      " ▁1985 , ▁z ▁stock ▁has ▁given ▁first ▁may ▁be \n",
      " ▁bid ▁for ▁its ▁offer ▁on ▁behalf ▁of ▁an ▁improvement ▁to ▁differ entials ▁making ▁an ▁agreement \n",
      " ▁holding ▁company ▁( for ▁d ana ▁& lt ; gr os la ▁are ▁still \n",
      " ▁available ▁to ▁a ▁new ▁disillusion ment ▁with ▁the ▁current \n",
      " ▁and ▁areas ▁and ▁will ▁be ▁paid , ▁for ▁market ▁nerves ▁about ▁the ▁poll ▁outcome , ▁they ▁said . \n",
      " ▁they ▁said ▁some ▁char les ▁red ▁futures ▁is ▁the ▁largest ▁of ▁the \n",
      " ▁state ▁statistics ▁be ▁res ched uled , ▁with ▁the ▁t ran scan ada ▁offer , ▁the ▁company ▁said ▁it ▁sold \n",
      " ▁666 , 667 ▁shares ▁at ▁75 ▁c ts ▁a ▁share . \n",
      " ▁m ead ▁corp ▁said \n",
      " ▁its ▁royal ▁d utch ▁consumer ▁vessels ▁stock , ▁has ▁been ▁speculation ▁that ▁the ▁consumer ▁position ▁has ▁not \n",
      " ▁tightened ▁credit ▁to ▁the ▁degree ▁suggested ▁by ▁the ▁data \n",
      " ▁locals ▁would ▁meet ▁on ▁the ▁other ▁two ▁lower , \n",
      " ▁which ▁is ▁in ▁a ▁fifth ▁year ▁of ▁v ancouver , ▁said ▁the ▁sales ▁are \n",
      " ▁other ▁than ▁last ▁s aturday . ▁it ▁is ▁one \n",
      " ▁that ▁the ▁b res cia . ▁south ▁j apan 's ▁g ord ex , ▁ ott awa ▁and ▁chic out imi , ▁que bec ▁and ▁four ▁printing ▁plants ▁in \n",
      " ▁ont ario . \n",
      " ▁ca nam ▁ manac ▁said ▁it ▁is ▁decreasing ▁the ▁price \n",
      " ▁stake ▁in ▁the ▁financial ▁advisor ▁to ▁bil ze rian ▁inc , ▁a \n",
      " ▁company ▁that ▁said ▁the ▁new ▁pipeline ▁link ▁the ▁suit ▁was \n",
      " ▁expected ▁to ▁81 . 7 ▁m ln ▁a ▁year ▁earlier . \n",
      " ▁the ▁figures ▁revised ▁first ▁quarter ▁net \n",
      " ▁shr ▁nil ▁vs ▁nil \n",
      " ▁net ▁215 , 000 ▁vs ▁8 , 9 29 , 000 \n",
      " ▁sales ▁146 . 8 ▁m ln ▁vs ▁117\n",
      "\n"
     ]
    },
    {
     "name": "stderr",
     "output_type": "stream",
     "text": [
      " 73%|███████▎  | 219/300 [00:00<00:00, 636.27it/s]"
     ]
    },
    {
     "name": "stdout",
     "output_type": "stream",
     "text": [
      "Generated Sequence from ['Today'] with temperature 1.3:\n",
      "Today : ▁consolidated ) ▁pact ▁will ▁be ▁converted ▁into ▁1 . 79 ▁f ran ▁van ▁dy ke ▁calculated \n",
      " ▁to ▁meet ▁the ▁25 ▁billion ▁up ▁rate ▁rate ▁yesterday ▁at ▁underlying ▁price ▁for ▁2 ▁of ▁government ▁bills ▁in ▁the ▁cane ▁areas . ▁ \n",
      " ▁the ▁company ▁said ▁the ▁governor ▁is ▁rising ▁a ▁detailed ▁plan ▁calling ▁will \n",
      " ▁qualify , ▁although ▁according ▁to ▁a ▁deficit ▁of ▁2 . 20 ▁p ct ▁v ob . \n",
      " ▁the ▁joint ▁committee ▁of ▁an ▁earthquake ▁is ▁just ▁last ▁year ▁in ▁year - on - year ▁total \n",
      " ▁about ▁69 , 000 ▁long ▁sales ▁of ▁may owment \n",
      " ▁unless ▁the ▁u . s ., ▁chairman ▁said ▁last ▁month ▁it ▁had \n",
      " ▁helped ▁dispel ▁inflation . ▁\" it ▁has ▁become ▁the ▁purchase ▁price \n",
      " ▁and ▁one ▁60 ▁days ▁after ▁agreeing ▁a \n",
      " ▁share . \n",
      " ▁as ▁will ▁be cor 's ▁b ▁adjustments . \n",
      " ▁pre tax ▁175 - 190 ▁days ▁5 . 85 ▁p ct ▁5 . 82 ▁p ct ▁88 ▁m ln ▁ dl rs ▁and \n",
      " ▁deposits ▁grew ▁14 ▁p ct ▁to ▁ 635 . 5 ▁m ln ▁guild ers ▁from ▁70 ▁m ln \n",
      " ▁common ▁shares ▁were ▁vs ▁7 , 300 , 000 \n",
      " ▁year \n",
      " ▁oper ▁shr ▁three ▁c ts ▁vs ▁18 ▁c ts \n",
      " ▁net ▁316 , 655 ▁vs ▁148 , 5 67\n",
      "\n"
     ]
    },
    {
     "name": "stderr",
     "output_type": "stream",
     "text": [
      "\n"
     ]
    }
   ],
   "source": [
    "# Generate text\n",
    "starting_sequence = [\"Today\"]\n",
    "temperatures = [0.7, 1.0, 1.3]\n",
    "\n",
    "for temperature in temperatures:\n",
    "    rnn_subword_tokenised_context_32_generated_sequence = generate_text(\n",
    "        model=rnn_subword_tokenised_context_32,\n",
    "        train_vocab=subword_tokenisation_train_vocab,\n",
    "        start_seq=starting_sequence,\n",
    "        temperature=temperature\n",
    "    )\n",
    "    print(f\"Generated Sequence from {starting_sequence} with temperature {temperature}:\")\n",
    "    print(rnn_subword_tokenised_context_32_generated_sequence)\n",
    "    print()"
   ]
  },
  {
   "cell_type": "markdown",
   "id": "69d6a5ed",
   "metadata": {},
   "source": [
    "## LSTM"
   ]
  },
  {
   "cell_type": "markdown",
   "id": "753e7b75",
   "metadata": {},
   "source": [
    "### Word Tokenisation, Context Length = 16"
   ]
  },
  {
   "cell_type": "code",
   "execution_count": 20,
   "id": "78807a52",
   "metadata": {},
   "outputs": [],
   "source": [
    "# Initialise model\n",
    "lstm = LSTMLanguageModel(\n",
    "    vocab_size=len(word_tokenisation_train_vocab),\n",
    "    embed_size=EMBEDDING_SIZE,\n",
    "    hidden_size=HIDDEN_SIZE,\n",
    "    num_layers=NUM_LAYERS,\n",
    "    dropout=DROPOUT,\n",
    "    pad_idx=word_tokenisation_train_vocab[\"<pad>\"]\n",
    ").to(device)\n",
    "\n",
    "lstm_word_tokenised_context_16_filename = \"model_weights_lstm_word_tokens_True_context_16_20250903-114443\"\n",
    "\n",
    "lstm_word_tokenised_context_16 = load_model(model_initialised=lstm, filename=lstm_word_tokenised_context_16_filename, device=device)"
   ]
  },
  {
   "cell_type": "code",
   "execution_count": 21,
   "id": "59597b05",
   "metadata": {},
   "outputs": [
    {
     "name": "stderr",
     "output_type": "stream",
     "text": [
      "100%|██████████| 1194/1194 [00:37<00:00, 32.13it/s]\n"
     ]
    },
    {
     "name": "stdout",
     "output_type": "stream",
     "text": [
      "Cross Entropy Loss: 10.4328327805952\n",
      "Perplexity: 33956.40519044669\n"
     ]
    }
   ],
   "source": [
    "# Cross Entropy Loss\n",
    "lstm_word_tokenised_context_16_cross_entropy_loss = evaluate_model(\n",
    "    model=lstm_word_tokenised_context_16,\n",
    "    converted_tokenised_docs=word_tokenised_numericalised_docs,\n",
    "    seq_len=16,\n",
    "    batch_size=BATCH_SIZE,\n",
    "    criterion=nn.CrossEntropyLoss(ignore_index=word_tokenisation_train_vocab[\"<pad>\"]),\n",
    "    device=device,\n",
    "    vocab_size=len(word_tokenisation_train_vocab)\n",
    ")\n",
    "print(f\"Cross Entropy Loss: {lstm_word_tokenised_context_16_cross_entropy_loss}\")\n",
    "\n",
    "# Perplexity\n",
    "lstm_word_tokenised_context_16_perplexity = math.exp(lstm_word_tokenised_context_16_cross_entropy_loss)\n",
    "print(f\"Perplexity: {lstm_word_tokenised_context_16_perplexity}\")"
   ]
  },
  {
   "cell_type": "code",
   "execution_count": 22,
   "id": "3e3d2171",
   "metadata": {},
   "outputs": [
    {
     "name": "stderr",
     "output_type": "stream",
     "text": [
      "100%|██████████| 300/300 [00:00<00:00, 350.67it/s]\n"
     ]
    },
    {
     "name": "stdout",
     "output_type": "stream",
     "text": [
      "Generated Sequence from ['Today'] with temperature 0.7:\n",
      "Today . it denied the government ' s daily line . the major industrial democracies will take place against a backdrop of rising congressional concern over reagan ' s plan but not protectionist , he added , but a possible sale of a turnover of 12 . 4 mln dlrs . blue arrow shares were trading 9p to 1 , 300 , 000 dlrs in quarter and 6 , 200 , 000 dlrs vs 7 , 225 , 000 dlrs in quarter and 3 , 039 , 000 dlres in half . current half net includes 2 , 051 , 000 dlr pretax gain 2 , 051 , 000 dlr acquisition of winterhalter into a profitable field , statoil said . the sale , covering a 20 year period beginning may 1 , 1989 , was previously recommended by the national energy board . contract terms were not released by analysts said its board meeting has made little headway in the area of financing , the government of japan and cut south korean markets to open the door to rice imports in the u . s . over 1985 in february that cited two weeks to offset the money market due to drought in the area during a visit to moscow last week and to raise certain help their stake in oil and gas fields have been discovered in the year to january 1987 group along with another one and 12 pct to six pct , up 0 . 25 pct from march and back to the same level seen late last year . the underlying rise is coming from a sharply lower dollar , higher oil and energy prices and canada is a malaysian national holiday , officials of the organisation said . the main issue at present levels late\n",
      "\n"
     ]
    },
    {
     "name": "stderr",
     "output_type": "stream",
     "text": [
      "100%|██████████| 300/300 [00:00<00:00, 429.67it/s]\n"
     ]
    },
    {
     "name": "stdout",
     "output_type": "stream",
     "text": [
      "Generated Sequence from ['Today'] with temperature 1.0:\n",
      "Today as the markets concluded that the stock market ' s collapse precluded the central bank from carrying out the widely-rumoured discount rate increase . a senior government economist suggested that both the u . s . would cut its huge foreign trade deficit more rapidly than many now believed . he said asean ' s looming trade problems would not necessarily stem from protectionist legislation now being contemplated by congress , but simply because of the adjustments the u . s . economy will sustain that strength in the longer term . weak u . s . soybean world market share has declined 35 pct in volume and 40 pct in value since 1982 , primarily as the record of soybeans and because the overall foreign oil supply impact in the form of its consumer products segment , has decided against buying charmglow . while roth-american said it is still interested in acquiring turco , atcor said it is now reviewing its options with other potential buyers who have have more accurate growth too short liquidity since m-1 money supply rates based on the other trading of european economists ' s major balance drop . the brazilian negotiations resume on exchange rate stability in the netherlands and belgium next year and the won will lead to around 6-11/16 pct . analysts have said there were large costs with the u . s . but the company said it is evaluating the proposals from paul bilzerian and from a third party which is active in the leveraged buyout council had recommended deregulatory measures but said that in an interview with reuters , lyng also acknowledged he declined to say what action could buying them it had little to combined lower official prices , including four during its stock for the current\n",
      "\n"
     ]
    },
    {
     "name": "stderr",
     "output_type": "stream",
     "text": [
      " 72%|███████▏  | 216/300 [00:00<00:00, 395.50it/s]"
     ]
    },
    {
     "name": "stdout",
     "output_type": "stream",
     "text": [
      "Generated Sequence from ['Today'] with temperature 1.3:\n",
      "Today in tokyo and that interest rates are not lower for economic policy for lead is in line with the government ' s cocoa products to those than this year ' s balance of a 47 pct rise interest in the year to march 1986 earnings group ' s western energy demand , higher import policy . now . the rise was attributed to the shortage of australian goods about one pct the source of protecting tin banks and the western soybean imports of grains and oilseeds in military oil marketing . the company said backlog stood at 7 . 520 billion dlrs , loans . it last week with the german state valued at 1 , 747 , 000 units in 1986 , partly at the entire year of the recent months , and west germany , it said . orders in spain and production at 505 , 000 tonnes , it earned 11 . 3 mln dlrs , or six cts per share , and last year on non-accrual , 300 , 000 vs 8 , 652 , 000 note 1st half oper shr 36 cts vs 35 cts oper net 1 , 619 , 000 vs 1 , 700 , 000 sales 10 . 3 mln vs loss 28 . 1 mln dlrs .\n",
      "\n"
     ]
    },
    {
     "name": "stderr",
     "output_type": "stream",
     "text": [
      "\n"
     ]
    }
   ],
   "source": [
    "# Generate text\n",
    "starting_sequence = [\"Today\"]\n",
    "temperatures = [0.7, 1.0, 1.3]\n",
    "\n",
    "for temperature in temperatures:\n",
    "    lstm_word_tokenised_context_16_generated_sequence = generate_text(\n",
    "        model=lstm_word_tokenised_context_16,\n",
    "        train_vocab=word_tokenisation_train_vocab,\n",
    "        start_seq=starting_sequence,\n",
    "        temperature=temperature\n",
    "    )\n",
    "    print(f\"Generated Sequence from {starting_sequence} with temperature {temperature}:\")\n",
    "    print(lstm_word_tokenised_context_16_generated_sequence)\n",
    "    print()"
   ]
  },
  {
   "cell_type": "markdown",
   "id": "8d2fe55d",
   "metadata": {},
   "source": [
    "### Word Tokenisation, Context Length = 32"
   ]
  },
  {
   "cell_type": "code",
   "execution_count": 23,
   "id": "31c4df57",
   "metadata": {},
   "outputs": [],
   "source": [
    "# Initialise model\n",
    "lstm = LSTMLanguageModel(\n",
    "    vocab_size=len(word_tokenisation_train_vocab),\n",
    "    embed_size=EMBEDDING_SIZE,\n",
    "    hidden_size=HIDDEN_SIZE,\n",
    "    num_layers=NUM_LAYERS,\n",
    "    dropout=DROPOUT,\n",
    "    pad_idx=word_tokenisation_train_vocab[\"<pad>\"]\n",
    ").to(device)\n",
    "\n",
    "lstm_word_tokenised_context_32_filename = \"model_weights_lstm_word_tokens_True_context_32_20250903-094435\"\n",
    "\n",
    "lstm_word_tokenised_context_32 = load_model(model_initialised=lstm, filename=lstm_word_tokenised_context_32_filename, device=device)"
   ]
  },
  {
   "cell_type": "code",
   "execution_count": 24,
   "id": "ee7e887b",
   "metadata": {},
   "outputs": [
    {
     "name": "stderr",
     "output_type": "stream",
     "text": [
      "100%|██████████| 1073/1073 [01:16<00:00, 14.02it/s]"
     ]
    },
    {
     "name": "stdout",
     "output_type": "stream",
     "text": [
      "Cross Entropy Loss: 11.714816488707498\n",
      "Perplexity: 122371.46449961234\n"
     ]
    },
    {
     "name": "stderr",
     "output_type": "stream",
     "text": [
      "\n"
     ]
    }
   ],
   "source": [
    "# Cross Entropy Loss\n",
    "lstm_word_tokenised_context_32_cross_entropy_loss = evaluate_model(\n",
    "    model=lstm_word_tokenised_context_32,\n",
    "    converted_tokenised_docs=word_tokenised_numericalised_docs,\n",
    "    seq_len=32,\n",
    "    batch_size=BATCH_SIZE,\n",
    "    criterion=nn.CrossEntropyLoss(ignore_index=word_tokenisation_train_vocab[\"<pad>\"]),\n",
    "    device=device,\n",
    "    vocab_size=len(word_tokenisation_train_vocab)\n",
    ")\n",
    "print(f\"Cross Entropy Loss: {lstm_word_tokenised_context_32_cross_entropy_loss}\")\n",
    "\n",
    "# Perplexity\n",
    "lstm_word_tokenised_context_32_perplexity = math.exp(lstm_word_tokenised_context_32_cross_entropy_loss)\n",
    "print(f\"Perplexity: {lstm_word_tokenised_context_32_perplexity}\")"
   ]
  },
  {
   "cell_type": "code",
   "execution_count": 25,
   "id": "1855175e",
   "metadata": {},
   "outputs": [
    {
     "name": "stderr",
     "output_type": "stream",
     "text": [
      "100%|██████████| 300/300 [00:01<00:00, 293.95it/s]\n"
     ]
    },
    {
     "name": "stdout",
     "output_type": "stream",
     "text": [
      "Generated Sequence from ['Today'] with temperature 0.7:\n",
      "Today ' s meetings of international trade and industry ( miti ) recommended this week that the government press ahead with deregulation of the oil industry , including the lifting of gasoline production quotas , to help oil companies increase their international competitiveness . japan ' s three biggest gasoline marketers , nippon oil , idemitsu and showa shell , suffered supply shortages under the production quota guideline in fiscal 1986 , ended last march . domestic gasoline demand during the year was being after delayed this month , a little battle . as a result , o ' neill said , there will be some impact on the real economy , but it may be forced to do so in financing the deal , said sources familiar with the transaction . borg-warner has said its management is not a participant in the transaction , but managers will retain their positions . the investors involved with merrill include pension funds , insurance companies and other institutional investors , sources said . analysts believe gaf , which owns 19 . 9 pct of borg-warner , will raise its earnings of 16 . 6 mln and 13 . 9 mln last year . cumulative net pack for the season was 86 . 8 cents/litre from 97 and 10 pct in 1986/87 . cotton rose 2 . 9 pct in 1986 , the imf said . for the developing countries , the gross domestic product , another measure of economic growth , was expected to fall to 3 . 0 pct from 3 . 5 pct last year . reduced the year to 17 . 8 billion marks from about 1 . 5 mln barrels to 520 . 0 mln . the total of all crude , refined product and spr stocks rose 9\n",
      "\n"
     ]
    },
    {
     "name": "stderr",
     "output_type": "stream",
     "text": [
      "100%|██████████| 300/300 [00:00<00:00, 360.42it/s]\n"
     ]
    },
    {
     "name": "stdout",
     "output_type": "stream",
     "text": [
      "Generated Sequence from ['Today'] with temperature 1.0:\n",
      "Today to sell its celeron corp chairman and e . f . hutton said . some others , however , judged that the dollar has become more serious as a originally signal to new orleans from subsidy in coffee , officials and firm said . the opening compares with 143 . 90/144 . 00 yen average in denmark and was 1 . 13 mln tonnes , up from 1 . 97 mln tonnes , compared with an estimated offtake of 2 . 88 mln in 1985 , on 23 . 22 billion rand in april from the first four months this year from 8 . 7 billion . exports to the convertible level of tariffs on orange juice by farmers . baker we certainly really expect another one ounce this month to drop by 4 . 3 pct one year ago . theodore brophy , chairman of gte said , we expect us sprint ' s losses to diminish later this year as customer traffic migrates to the new fiber-optic network for long distance telecommunications . the reason for the higher losses reflect lower prices as well as higher operating costs related , in part the venezuelan government ' s inventory ships with the u . s . grain or a dispute over three years of five shareholders stock , according to a limited partnership to shareholders for july , a subordinated discount of record use for , if fed maintains a policy of self-sufficiency in the u . s . last year , dominion unsuccessfully bid for avondale mills and has maintained a 120 mln dlr line of tax credit capacity for up to may 1 . gordon gordon makes about 3 , 500 , 000 shares of life investors ' s stock under consideration proposed by a shareholders of\n",
      "\n"
     ]
    },
    {
     "name": "stderr",
     "output_type": "stream",
     "text": [
      " 99%|█████████▊| 296/300 [00:00<00:00, 401.16it/s]"
     ]
    },
    {
     "name": "stdout",
     "output_type": "stream",
     "text": [
      "Generated Sequence from ['Today'] with temperature 1.3:\n",
      "Today ' s shortfall to record stocks . seasonally adjusted spending in europe and two , and one of the products under basic income , currently which previously &lt 44 . o> 3rd qtr loss shr loss 22 cts vs loss 57 cts net loss 3 , 609 , 000 vs loss 240 , 000 revs 33 , 482 vs 1 , 782 , 047 note 1987 vs 257 mln building half note share adjusted for seven mln stg vs 22 . 0 mln santos management , the officers of datron corp &lt pa> and inland steel corp &lt s> . doe said completion of it ' s revenues for sales of 34 . 7 mln dlrs . these operations were a bank of public plants . the amounts of what in the u . s . received to the u . s . last year , dominion unsuccessfully bid for avondale mills and has maintained a 120 mln dlr line of credit to be far back before the results meeting in february , the central bank council gives its weekly proposal on a new plan for shipments , the spokesman added . the deal , which has been due to changes in key food , new sources in the second mine out of the decline in domestic goods oil output to 540 , 000 barrels a day ( bpd ) in 1988 from a current 500 , 000 bpd , a senior company official and co ' s department said . the full names of the companies did not expect the holder of about 60 mln stg of agricultural computer ' s most markets ' s economy . malaysia raised output in may from 420 . 5 pct in 24 . 3 mln reported and up\n",
      "\n"
     ]
    },
    {
     "name": "stderr",
     "output_type": "stream",
     "text": [
      "\n"
     ]
    }
   ],
   "source": [
    "# Generate text\n",
    "starting_sequence = [\"Today\"]\n",
    "temperatures = [0.7, 1.0, 1.3]\n",
    "\n",
    "for temperature in temperatures:\n",
    "    lstm_word_tokenised_context_32_generated_sequence = generate_text(\n",
    "        model=lstm_word_tokenised_context_32,\n",
    "        train_vocab=word_tokenisation_train_vocab,\n",
    "        start_seq=starting_sequence,\n",
    "        temperature=temperature\n",
    "    )\n",
    "    print(f\"Generated Sequence from {starting_sequence} with temperature {temperature}:\")\n",
    "    print(lstm_word_tokenised_context_32_generated_sequence)\n",
    "    print()"
   ]
  },
  {
   "cell_type": "markdown",
   "id": "7980feb7",
   "metadata": {},
   "source": [
    "### Subword Tokenisation, Context Length = 16"
   ]
  },
  {
   "cell_type": "code",
   "execution_count": 26,
   "id": "1725a473",
   "metadata": {},
   "outputs": [],
   "source": [
    "# Initialise model\n",
    "lstm = LSTMLanguageModel(\n",
    "    vocab_size=len(subword_tokenisation_train_vocab),\n",
    "    embed_size=EMBEDDING_SIZE,\n",
    "    hidden_size=HIDDEN_SIZE,\n",
    "    num_layers=NUM_LAYERS,\n",
    "    dropout=DROPOUT,\n",
    "    pad_idx=subword_tokenisation_train_vocab[\"<pad>\"]\n",
    ").to(device)\n",
    "\n",
    "lstm_subword_tokenised_context_16_filename = \"model_weights_lstm_word_tokens_False_context_16_20250903-123204\"\n",
    "\n",
    "lstm_subword_tokenised_context_16 = load_model(model_initialised=lstm, filename=lstm_subword_tokenised_context_16_filename, device=device)"
   ]
  },
  {
   "cell_type": "code",
   "execution_count": 27,
   "id": "61582779",
   "metadata": {},
   "outputs": [
    {
     "name": "stderr",
     "output_type": "stream",
     "text": [
      "100%|██████████| 1566/1566 [00:57<00:00, 27.45it/s]"
     ]
    },
    {
     "name": "stdout",
     "output_type": "stream",
     "text": [
      "Cross Entropy Loss: 9.117478087753781\n",
      "Perplexity: 9113.189946586552\n"
     ]
    },
    {
     "name": "stderr",
     "output_type": "stream",
     "text": [
      "\n"
     ]
    }
   ],
   "source": [
    "# Cross Entropy Loss\n",
    "lstm_subword_tokenised_context_16_cross_entropy_loss = evaluate_model(\n",
    "    model=lstm_subword_tokenised_context_16,\n",
    "    converted_tokenised_docs=subword_tokenised_numericalised_docs,\n",
    "    seq_len=16,\n",
    "    batch_size=BATCH_SIZE,\n",
    "    criterion=nn.CrossEntropyLoss(ignore_index=subword_tokenisation_train_vocab[\"<pad>\"]),\n",
    "    device=device,\n",
    "    vocab_size=len(subword_tokenisation_train_vocab)\n",
    ")\n",
    "print(f\"Cross Entropy Loss: {lstm_subword_tokenised_context_16_cross_entropy_loss}\")\n",
    "\n",
    "# Perplexity\n",
    "lstm_subword_tokenised_context_16_perplexity = math.exp(lstm_subword_tokenised_context_16_cross_entropy_loss)\n",
    "print(f\"Perplexity: {lstm_subword_tokenised_context_16_perplexity}\")"
   ]
  },
  {
   "cell_type": "code",
   "execution_count": 28,
   "id": "9def2bdd",
   "metadata": {},
   "outputs": [
    {
     "name": "stderr",
     "output_type": "stream",
     "text": [
      "100%|██████████| 300/300 [00:01<00:00, 282.05it/s]\n"
     ]
    },
    {
     "name": "stdout",
     "output_type": "stream",
     "text": [
      "Generated Sequence from ['Today'] with temperature 0.7:\n",
      "Today ,\" ▁said ▁the ▁united ▁states ▁was \n",
      " ▁prepared ▁for ▁a ▁major ▁war ▁imposed ▁by ▁congress . \n",
      " ▁if ▁he ▁thought ▁the ▁chances ▁of ▁it ▁would ▁consider ▁leaving ▁the ▁ ico \n",
      " ▁if ▁we ▁would ▁not ▁only ▁want ▁to ▁open ▁the ▁way ▁for ▁another ▁non - v oting ▁basis . \n",
      " ▁based ▁in ▁brist ol , ▁eng land , ▁i sis ▁employs ▁65 ▁workers ▁and ▁has \n",
      " ▁annual ▁revenues ▁of ▁1 . 9 ▁m ln ▁ dl rs ▁in ▁year ▁and ▁loss ▁of ▁9 . 2 ▁m ln ▁ dl rs , ▁or ▁54 ▁c ts ▁per ▁share , ▁in \n",
      " ▁1986 . \n",
      " ▁the ▁bank ▁of ▁eng land ▁said ▁it ▁forecast ▁a \n",
      " ▁shortage ▁of ▁around ▁250 ▁m ln ▁s tg ▁in ▁external \n",
      " ▁ bor ro wings . \n",
      " ▁lex ▁shares ▁fell ▁by ▁75 ▁m ln ▁s tg ▁help ▁in ▁the ▁morning ▁session . \n",
      " ▁this ▁compares ▁with ▁the ▁bank 's ▁estimate ▁that ▁the ▁system ▁would \n",
      " ▁face ▁a ▁shortage ▁of ▁around ▁400 ▁m ln ▁s tg ▁in ▁the ▁money ▁market ▁today . \n",
      " ▁among ▁the ▁main ▁factors ▁affecting ▁liquidity , ▁bills ▁mat uring \n",
      " ▁in ▁official ▁hands ▁and ▁the ▁take - up ▁of ▁treasury ▁bills ▁will ▁drain \n",
      " ▁some ▁505 ▁m ln ▁s tg , ▁while ▁bills ▁for ▁rep urchase ▁acc ords \n",
      " ▁s eger ▁told ▁reporters ▁j apan ▁might ▁boost ▁b . ▁s track be in ▁would ▁be \n",
      " ▁president ▁of ▁saf co . \n",
      " ▁the ▁company ▁also ▁said ▁it ▁completed ▁the ▁previously ▁group ▁of ▁its \n",
      " ▁stock ▁savings , ▁committee ▁related ▁of ▁both ▁the ▁chemical ▁business . \n",
      " ▁the ▁company ▁said ▁the ▁transaction ▁would ▁be ▁paid ▁in ▁at ▁least ▁two ▁p ct \n",
      " ▁owned ▁by ▁the ▁u . s . ▁federal ▁reserve ▁bank , ▁traders ▁said . \n",
      " ▁they ▁said ▁ sov iet ▁cargo ▁ships ▁bound\n",
      "\n"
     ]
    },
    {
     "name": "stderr",
     "output_type": "stream",
     "text": [
      " 27%|██▋       | 81/300 [00:00<00:00, 358.77it/s]\n"
     ]
    },
    {
     "name": "stdout",
     "output_type": "stream",
     "text": [
      "Generated Sequence from ['Today'] with temperature 1.0:\n",
      "Today ,\" ▁said ▁the ▁re agan ▁administration \n",
      " ▁council ▁with ▁rumors ▁its ▁commitments ▁will ▁be ▁seeking \n",
      " ▁in ▁late ▁aug ust . \n",
      " ▁a ▁d utch ▁cash ▁subsidiary ▁said ▁it ▁expects ▁to ▁make ▁the ▁payment ▁due ▁due ▁to \n",
      " ▁weakness ▁for ▁the ▁first ▁six ▁years ▁at ▁105 ▁p ct , ▁during ▁the ▁seventh ▁year ▁at \n",
      " ▁102 . 60 / 5 ▁at ▁a ▁month ▁earlier . ▁the ▁bank ▁of ▁e tl ▁and ▁its \n",
      " ▁consolidated ▁primary ▁60 - h wan ▁1 ▁gas\n",
      "\n"
     ]
    },
    {
     "name": "stderr",
     "output_type": "stream",
     "text": [
      "100%|██████████| 300/300 [00:00<00:00, 397.60it/s]"
     ]
    },
    {
     "name": "stdout",
     "output_type": "stream",
     "text": [
      "Generated Sequence from ['Today'] with temperature 1.3:\n",
      "Today .\" \n",
      " ▁official ▁figures ▁show ▁the ▁balance , ▁products ▁in ▁each \n",
      " ▁in ▁the ▁ phi lip pine ▁business . ▁ \n",
      " ▁j us tin ▁si lv erton , ▁equity ▁economist ▁at ▁credit ▁su isse ▁said . \n",
      " ▁the ▁partners ▁were ▁at ▁about ▁three ▁times \n",
      " ▁in ▁the ▁n ether lands ' ▁spokesman ▁ger ▁committee , ▁economic ▁growth ▁and ▁ind \n",
      " ▁re apan ▁said . \n",
      " ▁m iller ▁said ▁shareholders ▁will ▁be ▁followed ▁by ▁a ▁merger ▁in ▁which ▁ asher . \n",
      " ▁c pc ▁said ▁it ▁would ▁retain ▁automatic ▁toll ▁assets \n",
      " ▁worth ▁about ▁nine ▁m ln ▁ dl rs . \n",
      " ▁assets ▁of ▁the ▁shares ▁trading ▁would ▁run ▁before ▁he ▁he ▁sees ▁federal ▁savings ▁basis ▁to ▁take ▁t tl ▁share ▁at ▁the ▁end ▁of ▁24 . \n",
      " ▁the ▁u . s . ▁imposed ▁100 ▁p ct ▁import ▁duties ▁on ▁personal \n",
      " ▁computers , ▁colour ▁telev isions ▁and ▁power ▁tools , ▁alleging ▁that \n",
      " ▁j apan ▁had ▁violated ▁last ▁s aturday ▁might ▁be ▁sold , \n",
      " ▁m unch meyer , ▁ heng - 74 ▁long ▁term ▁sugar . \n",
      " ▁the ▁country 's ▁foreign ▁debt ▁were ▁projected ▁to ▁8 . 0 ▁billion ▁ dl rs ▁is ▁reported ▁in ▁the ▁management ▁of ▁dome , \n",
      " ▁petroleum ▁of ▁ ame rican ▁re alty ▁trust ▁& lt ; arb > \n",
      " ▁for ▁investment . ▁w . ▁inflation ▁rose ▁to ▁7 . 28 ▁m ln \n",
      " ▁and ▁12 ▁last ▁month . \n",
      " ▁soy bean ▁meal ▁exports ▁by ▁the ▁month ▁of ▁eastern ▁contracts ▁for ▁ec \n",
      " ▁weather ▁affected ▁without ▁the ▁attack ▁of ▁the ▁dollar . ▁as ▁further ▁details \n",
      " ▁were ▁more ▁competitive ▁in ▁j apan . \n",
      " ▁the ▁u . s . ▁currency ▁deficit , ▁when ▁it ▁does \n",
      " ▁not ▁own ▁and ▁the ▁earnings ▁growth ▁will ▁resume ▁in ▁one ▁major ▁record \n",
      " ▁period ▁months ▁for ▁delivery\n",
      "\n"
     ]
    },
    {
     "name": "stderr",
     "output_type": "stream",
     "text": [
      "\n"
     ]
    }
   ],
   "source": [
    "# Generate text\n",
    "starting_sequence = [\"Today\"]\n",
    "temperatures = [0.7, 1.0, 1.3]\n",
    "\n",
    "for temperature in temperatures:\n",
    "    lstm_subword_tokenised_context_16_generated_sequence = generate_text(\n",
    "        model=lstm_subword_tokenised_context_16,\n",
    "        train_vocab=subword_tokenisation_train_vocab,\n",
    "        start_seq=starting_sequence,\n",
    "        temperature=temperature\n",
    "    )\n",
    "    print(f\"Generated Sequence from {starting_sequence} with temperature {temperature}:\")\n",
    "    print(lstm_subword_tokenised_context_16_generated_sequence)\n",
    "    print()"
   ]
  },
  {
   "cell_type": "markdown",
   "id": "43f3847b",
   "metadata": {},
   "source": [
    "### Subword Tokenisation, Context Length = 32"
   ]
  },
  {
   "cell_type": "code",
   "execution_count": 29,
   "id": "97e8d36e",
   "metadata": {},
   "outputs": [],
   "source": [
    "# Initialise model\n",
    "lstm = LSTMLanguageModel(\n",
    "    vocab_size=len(subword_tokenisation_train_vocab),\n",
    "    embed_size=EMBEDDING_SIZE,\n",
    "    hidden_size=HIDDEN_SIZE,\n",
    "    num_layers=NUM_LAYERS,\n",
    "    dropout=DROPOUT,\n",
    "    pad_idx=subword_tokenisation_train_vocab[\"<pad>\"]\n",
    ").to(device)\n",
    "\n",
    "lstm_subword_tokenised_context_32_filename = \"model_weights_lstm_word_tokens_False_context_32_20250903-104701\"\n",
    "\n",
    "lstm_subword_tokenised_context_32 = load_model(model_initialised=lstm, filename=lstm_subword_tokenised_context_32_filename, device=device)"
   ]
  },
  {
   "cell_type": "code",
   "execution_count": 30,
   "id": "10b89100",
   "metadata": {},
   "outputs": [
    {
     "name": "stderr",
     "output_type": "stream",
     "text": [
      "100%|██████████| 1442/1442 [01:39<00:00, 14.53it/s]"
     ]
    },
    {
     "name": "stdout",
     "output_type": "stream",
     "text": [
      "Cross Entropy Loss: 10.090113407943848\n",
      "Perplexity: 24103.525809895324\n"
     ]
    },
    {
     "name": "stderr",
     "output_type": "stream",
     "text": [
      "\n"
     ]
    }
   ],
   "source": [
    "# Cross Entropy Loss\n",
    "lstm_subword_tokenised_context_32_cross_entropy_loss = evaluate_model(\n",
    "    model=lstm_subword_tokenised_context_32,\n",
    "    converted_tokenised_docs=subword_tokenised_numericalised_docs,\n",
    "    seq_len=32,\n",
    "    batch_size=BATCH_SIZE,\n",
    "    criterion=nn.CrossEntropyLoss(ignore_index=subword_tokenisation_train_vocab[\"<pad>\"]),\n",
    "    device=device,\n",
    "    vocab_size=len(subword_tokenisation_train_vocab)\n",
    ")\n",
    "print(f\"Cross Entropy Loss: {lstm_subword_tokenised_context_32_cross_entropy_loss}\")\n",
    "\n",
    "# Perplexity\n",
    "lstm_subword_tokenised_context_32_perplexity = math.exp(lstm_subword_tokenised_context_32_cross_entropy_loss)\n",
    "print(f\"Perplexity: {lstm_subword_tokenised_context_32_perplexity}\")"
   ]
  },
  {
   "cell_type": "code",
   "execution_count": 31,
   "id": "bfb09824",
   "metadata": {},
   "outputs": [
    {
     "name": "stderr",
     "output_type": "stream",
     "text": [
      " 59%|█████▉    | 177/300 [00:00<00:00, 269.30it/s]\n"
     ]
    },
    {
     "name": "stdout",
     "output_type": "stream",
     "text": [
      "Generated Sequence from ['Today'] with temperature 0.7:\n",
      "Today ▁to ▁the ▁test . ▁it ▁is \n",
      " ▁for ▁bur lington ▁i 's ▁there ▁was ▁that ▁questions ▁that ▁it \n",
      " ▁will ▁issue ▁the ▁tariffs ▁on ▁j apan ese ▁investors ▁from ▁rapid ▁two \n",
      " ▁other ▁other ▁countries ▁like ▁beef ▁imports . \n",
      " ▁\" that ▁will ▁also ▁become ▁the ▁largest ▁single ▁action ▁is ▁not \n",
      " ▁to ▁end ▁the ▁economy ▁and ▁risen ▁to ▁further ▁the ▁dollar ▁from ▁just \n",
      " ▁further ▁8 . x ▁point ▁cut \n",
      "\n",
      " ▁fed ▁says ▁decision ▁would ▁be ▁above ▁500 ▁yen , ▁the ▁floor ▁that \n",
      " ▁it ▁would ▁also ▁increase ▁the ▁gross ▁national ▁products ▁of ▁both \n",
      " ▁countries . \n",
      " ▁ nis ka nen ▁said ▁the ▁goal ▁of ▁a ▁pact ▁should ▁be ▁to ▁end ▁all \n",
      " ▁tariffs ▁within ▁10 ▁years , ▁lower ▁subsidies ▁on ▁exports , ▁set ▁rules \n",
      " ▁for ▁trade ▁in ▁services ▁and ▁investments , ▁he ▁said . \n",
      " ▁\" the ▁lesson ▁of ▁history ▁is ▁that ▁once ▁the ▁inflation ▁ge nie ▁gets \n",
      " ▁out ▁of ▁the ▁bottle , ▁it ▁continues ▁to ▁persist ,\" ▁he ▁said , ▁adding ▁he \n",
      " ▁would ▁like ▁the ▁fed ▁to ▁tighten ▁credit .\n",
      "\n"
     ]
    },
    {
     "name": "stderr",
     "output_type": "stream",
     "text": [
      "100%|██████████| 300/300 [00:00<00:00, 379.32it/s]\n"
     ]
    },
    {
     "name": "stdout",
     "output_type": "stream",
     "text": [
      "Generated Sequence from ['Today'] with temperature 1.0:\n",
      "Today ▁for ▁j apan ▁from ▁getting ▁an ▁lawsuits 's ▁proposal . \n",
      " ▁in ▁its ▁statement , ▁ ku wait ▁oil ▁investors ▁has ▁sold ▁1 , 500 ▁and ▁to ▁1 , 500 \n",
      " ▁beds , ▁in ▁bel g ium , ▁ eu rop ean ▁country \n",
      "\n",
      " ▁us ▁pay ▁aug ust ▁to ▁meet ▁south ▁k orean \n",
      " ▁prime ▁company . \n",
      " ▁the ▁reform ▁of ▁three ▁leading ▁ ku wait ▁was ▁not ▁immediately \n",
      " ▁avail al be ▁must ▁be ▁around ▁cost ▁to \n",
      " ▁commission 's ▁markets ▁that ▁was ▁trying ▁to ▁sell ▁its ▁u . s . ▁acquisition . \n",
      " ▁the ▁company ▁said ▁the ▁action ▁affects ▁401 ▁m ln \n",
      " ▁ dl rs ▁of ▁loans ▁to ▁b razil ▁and ▁73 ▁m ln ▁of ▁loans ▁to ▁ec uador . \n",
      " ▁b razil ▁suspended ▁interest ▁payments ▁on ▁its ▁68 ▁billion ▁ dl rs \n",
      " ▁of ▁medium - ▁and ▁long - term ▁debt ▁on ▁f eb ruary ▁22 . \n",
      " ▁u . s . ▁banking ▁data ▁suggest ▁the ▁industry \n",
      " ▁including ▁f eb ruary ▁1986 . ▁this ▁is ▁quoted ▁the ▁government ▁to ▁remove \n",
      " ▁residual ▁import ▁quota ▁items , ▁and ▁markets ▁are ▁considered ▁by ▁ic mc 's ▁nil \n",
      " ▁ay ▁ex pd - e ▁2 . 8 ▁2 , 8 12 . 2 ▁2 , 0 87 ▁10 . 0 \n",
      " ▁soy beans \n",
      " ▁1986 ▁and ▁3 . 0 ▁m ln ▁ dl rs ▁the ▁net ▁of ▁100 . 2 ▁m ln ▁ dl rs ▁and ▁the \n",
      " ▁total ▁outstanding , ▁from ▁374 , ▁up ▁0 . 25 ▁p ct ▁from ▁a ▁year ▁earlier . \n",
      " ▁the ▁may ▁28 ▁annual ▁first ▁quarter ▁had ▁been ▁in ▁the \n",
      " ▁hands ▁of ▁trade ▁dealers ▁now ▁rated ▁after ▁by ▁the ▁end ▁of ▁the ▁year \n",
      " ▁but ▁economists ▁warned ▁that ▁the ▁bun des bank ▁had ▁tolerated ▁five ▁p ct ▁of \n",
      " ▁ argo\n",
      "\n"
     ]
    },
    {
     "name": "stderr",
     "output_type": "stream",
     "text": [
      " 17%|█▋        | 50/300 [00:00<00:00, 402.81it/s]"
     ]
    },
    {
     "name": "stdout",
     "output_type": "stream",
     "text": [
      "Generated Sequence from ['Today'] with temperature 1.3:\n",
      "Today ▁likely ▁to ▁follow ▁the ▁war ▁agree ▁to ▁the \n",
      " ▁market ▁in ▁return ▁to ▁the ▁new \n",
      " ▁industry ,\" ▁he ▁said . \n",
      " ▁he ▁also ▁told ▁reporters ▁that ▁many ▁major ▁nations ▁yesterday \n",
      " ▁intervened ▁heavily ▁to ▁support ▁the ▁dollar ▁against ▁the ▁yen ▁or ▁came ,\" ▁said \n",
      " ▁n eda ▁said .\n",
      "\n"
     ]
    },
    {
     "name": "stderr",
     "output_type": "stream",
     "text": [
      "\n"
     ]
    }
   ],
   "source": [
    "# Generate text\n",
    "starting_sequence = [\"Today\"]\n",
    "temperatures = [0.7, 1.0, 1.3]\n",
    "\n",
    "for temperature in temperatures:\n",
    "    lstm_subword_tokenised_context_32_generated_sequence = generate_text(\n",
    "        model=lstm_subword_tokenised_context_32,\n",
    "        train_vocab=subword_tokenisation_train_vocab,\n",
    "        start_seq=starting_sequence,\n",
    "        temperature=temperature\n",
    "    )\n",
    "    print(f\"Generated Sequence from {starting_sequence} with temperature {temperature}:\")\n",
    "    print(lstm_subword_tokenised_context_32_generated_sequence)\n",
    "    print()"
   ]
  }
 ],
 "metadata": {
  "kernelspec": {
   "display_name": "venv",
   "language": "python",
   "name": "python3"
  },
  "language_info": {
   "codemirror_mode": {
    "name": "ipython",
    "version": 3
   },
   "file_extension": ".py",
   "mimetype": "text/x-python",
   "name": "python",
   "nbconvert_exporter": "python",
   "pygments_lexer": "ipython3",
   "version": "3.13.5"
  }
 },
 "nbformat": 4,
 "nbformat_minor": 5
}
