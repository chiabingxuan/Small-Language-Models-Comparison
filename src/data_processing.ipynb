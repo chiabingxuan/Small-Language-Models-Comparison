{
 "cells": [
  {
   "cell_type": "markdown",
   "id": "4fb403ca",
   "metadata": {},
   "source": [
    "## Imports"
   ]
  },
  {
   "cell_type": "code",
   "execution_count": null,
   "id": "30a3a29f",
   "metadata": {},
   "outputs": [
    {
     "name": "stderr",
     "output_type": "stream",
     "text": [
      "c:\\Users\\bxchi\\OneDrive\\Desktop\\Stuff\\Year 4 Sem 1\\DSA4213\\Assignments\\Assignment 2\\venv\\Lib\\site-packages\\tqdm\\auto.py:21: TqdmWarning: IProgress not found. Please update jupyter and ipywidgets. See https://ipywidgets.readthedocs.io/en/stable/user_install.html\n",
      "  from .autonotebook import tqdm as notebook_tqdm\n"
     ]
    }
   ],
   "source": [
    "from data_processing import get_data, split_data, process_data, make_train_vocab, convert_tokens_to_ids\n",
    "import numpy as np\n",
    "import os\n",
    "import pickle\n",
    "import random\n",
    "import torch"
   ]
  },
  {
   "cell_type": "markdown",
   "id": "e2f93a92",
   "metadata": {},
   "source": [
    "## Setup"
   ]
  },
  {
   "cell_type": "code",
   "execution_count": null,
   "id": "925ab66d",
   "metadata": {},
   "outputs": [],
   "source": [
    "# Set seeds\n",
    "seed = 42\n",
    "torch.manual_seed(seed)\n",
    "torch.cuda.manual_seed(seed)\n",
    "torch.cuda.manual_seed_all(seed)\n",
    "torch.backends.cudnn.deterministic = True\n",
    "torch.backends.cudnn.benchmark = False\n",
    "torch.backends.cudnn.enabled = False\n",
    "random.seed(seed)\n",
    "np.random.seed(seed)"
   ]
  },
  {
   "cell_type": "markdown",
   "id": "cb926591",
   "metadata": {},
   "source": [
    "## Getting the Data (WikiText2)"
   ]
  },
  {
   "cell_type": "code",
   "execution_count": 4,
   "id": "22c40e4c",
   "metadata": {},
   "outputs": [
    {
     "name": "stdout",
     "output_type": "stream",
     "text": [
      "Size of train: 36718\n",
      "Size of validation: 3760\n",
      "Size of test: 4358\n",
      "Total dataset size: 44836\n"
     ]
    }
   ],
   "source": [
    "# Get raw dataset\n",
    "docs_splits = get_data()"
   ]
  },
  {
   "cell_type": "code",
   "execution_count": 5,
   "id": "45b0e56a",
   "metadata": {},
   "outputs": [],
   "source": [
    "# Adjust the dataset to the dataset size and train-val-test split required\n",
    "DATASET_SIZE = 37500\n",
    "TRAIN_SPLIT = 0.8\n",
    "VAL_SPLIT = 0.1"
   ]
  },
  {
   "cell_type": "code",
   "execution_count": 6,
   "id": "0212aac1",
   "metadata": {},
   "outputs": [
    {
     "name": "stdout",
     "output_type": "stream",
     "text": [
      "New train size: 30000\n",
      "New validation size: 3750\n",
      "New test size: 3750\n"
     ]
    }
   ],
   "source": [
    "corrected_docs_splits = split_data(docs_splits=docs_splits, full_dataset_size=DATASET_SIZE, train_split=TRAIN_SPLIT, val_split=VAL_SPLIT)"
   ]
  },
  {
   "cell_type": "markdown",
   "id": "aaaaa15c",
   "metadata": {},
   "source": [
    "## Data Processing"
   ]
  },
  {
   "cell_type": "code",
   "execution_count": 8,
   "id": "efdb9217",
   "metadata": {},
   "outputs": [],
   "source": [
    "tokenised_docs = process_data(corrected_docs_splits=corrected_docs_splits)"
   ]
  },
  {
   "cell_type": "markdown",
   "id": "b6f69f4f",
   "metadata": {},
   "source": [
    "## Numericalisation of Tokens"
   ]
  },
  {
   "cell_type": "code",
   "execution_count": 10,
   "id": "12a124ef",
   "metadata": {},
   "outputs": [
    {
     "name": "stdout",
     "output_type": "stream",
     "text": [
      "Training vocabulary size: 58177\n"
     ]
    }
   ],
   "source": [
    "# Make vocabulary from train set\n",
    "train_vocab = make_train_vocab(train_docs=tokenised_docs[\"train\"])\n",
    "\n",
    "# Use vocabulary to numericalise train, val and test datasets\n",
    "converted_tokenised_docs = convert_tokens_to_ids(tokenised_docs=tokenised_docs, train_vocab=train_vocab)"
   ]
  },
  {
   "cell_type": "markdown",
   "id": "36050ddd",
   "metadata": {},
   "source": [
    "## Save Data"
   ]
  },
  {
   "cell_type": "code",
   "execution_count": null,
   "id": "49e55e43",
   "metadata": {},
   "outputs": [],
   "source": [
    "# Create data folder\n",
    "os.makedirs(os.path.normpath(os.path.join(\"..\", \"data\")), exist_ok=True)\n",
    "\n",
    "# Save the ids of the tokenised documents\n",
    "with open(os.path.normpath(os.path.join(\"..\", \"data\", f\"wikitext2_data.pkl\")), \"wb\") as f:\n",
    "    pickle.dump(converted_tokenised_docs, f)\n",
    "\n",
    "# Save the training vocabulary\n",
    "with open(os.path.normpath(os.path.join(\"..\", \"data\", f\"wikitext2_train_vocab.pkl\")), \"wb\") as f:\n",
    "    pickle.dump(train_vocab, f)"
   ]
  }
 ],
 "metadata": {
  "kernelspec": {
   "display_name": "venv",
   "language": "python",
   "name": "python3"
  },
  "language_info": {
   "codemirror_mode": {
    "name": "ipython",
    "version": 3
   },
   "file_extension": ".py",
   "mimetype": "text/x-python",
   "name": "python",
   "nbconvert_exporter": "python",
   "pygments_lexer": "ipython3",
   "version": "3.13.5"
  }
 },
 "nbformat": 4,
 "nbformat_minor": 5
}
