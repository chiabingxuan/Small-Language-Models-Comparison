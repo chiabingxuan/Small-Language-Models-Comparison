{
 "cells": [
  {
   "cell_type": "markdown",
   "id": "f97c0f2d",
   "metadata": {},
   "source": [
    "## Imports"
   ]
  },
  {
   "cell_type": "code",
   "execution_count": null,
   "id": "f35e2bbd",
   "metadata": {},
   "outputs": [],
   "source": [
    "from model_training import RNNLanguageModel\n",
    "import numpy as np\n",
    "import os\n",
    "import pickle\n",
    "import random\n",
    "import torch\n",
    "from tqdm import tqdm"
   ]
  },
  {
   "cell_type": "markdown",
   "id": "bdf9dec6",
   "metadata": {},
   "source": [
    "## Setup"
   ]
  },
  {
   "cell_type": "code",
   "execution_count": null,
   "id": "b99b84c5",
   "metadata": {},
   "outputs": [],
   "source": [
    "# Device agnostic code\n",
    "device = torch.device(\"cuda\" if torch.cuda.is_available() else \"cpu\")\n",
    "\n",
    "# Set seeds\n",
    "seed = 42\n",
    "torch.manual_seed(seed)\n",
    "torch.cuda.manual_seed(seed)\n",
    "torch.cuda.manual_seed_all(seed)\n",
    "torch.backends.cudnn.deterministic = True\n",
    "torch.backends.cudnn.benchmark = False\n",
    "torch.backends.cudnn.enabled = False\n",
    "random.seed(seed)\n",
    "np.random.seed(seed)"
   ]
  },
  {
   "cell_type": "markdown",
   "id": "a6e6f27c",
   "metadata": {},
   "source": [
    "## Load Data"
   ]
  },
  {
   "cell_type": "code",
   "execution_count": null,
   "id": "cd8993a9",
   "metadata": {},
   "outputs": [],
   "source": [
    "with open(os.path.normpath(os.path.join(\"..\", \"data\", \"wikitext2_data.pkl\")), \"rb\") as f:\n",
    "    converted_tokenised_docs = pickle.load(f)\n",
    "\n",
    "with open(os.path.normpath(os.path.join(\"..\", \"data\", \"wikitext2_train_vocab.pkl\")), \"rb\") as f:\n",
    "    train_vocab = pickle.load(f)"
   ]
  },
  {
   "cell_type": "markdown",
   "id": "d4d4f0b2",
   "metadata": {},
   "source": [
    "## Set Model Hyperparameters"
   ]
  },
  {
   "cell_type": "code",
   "execution_count": null,
   "id": "8f41172c",
   "metadata": {},
   "outputs": [],
   "source": [
    "vocab_size = len(train_vocab)\n",
    "EMBEDDING_SIZE = 128\n",
    "HIDDEN_SIZE = 256\n",
    "NUM_LAYERS = 2"
   ]
  },
  {
   "cell_type": "markdown",
   "id": "2640682f",
   "metadata": {},
   "source": [
    "## Set Training Hyperparameters"
   ]
  },
  {
   "cell_type": "code",
   "execution_count": null,
   "id": "ff2b878b",
   "metadata": {},
   "outputs": [],
   "source": [
    "SEQUENCE_LENGTH = 30\n",
    "BATCH_SIZE = 32\n",
    "NUM_EPOCHS = 10\n",
    "LEARNING_RATE = 0.001\n",
    "PATIENCE = 10       # For early stopping. Represents max number of consecutive epochs where val loss does not improve, before early stopping is triggered"
   ]
  },
  {
   "cell_type": "markdown",
   "id": "52ad0738",
   "metadata": {},
   "source": [
    "## RNN"
   ]
  },
  {
   "cell_type": "code",
   "execution_count": null,
   "id": "8d167e05",
   "metadata": {},
   "outputs": [],
   "source": [
    "rnn = RNNLanguageModel(vocab_size=vocab_size, embed_size=EMBEDDING_SIZE, hidden_size=HIDDEN_SIZE, num_layers=NUM_LAYERS, pad_idx=train_vocab[\"<pad>\"])\n",
    "rnn_save_name = \"rnn\""
   ]
  },
  {
   "cell_type": "code",
   "execution_count": null,
   "id": "abdc919b",
   "metadata": {},
   "outputs": [],
   "source": []
  },
  {
   "cell_type": "markdown",
   "id": "9bf60d7d",
   "metadata": {},
   "source": [
    "## LSTM"
   ]
  }
 ],
 "metadata": {
  "language_info": {
   "name": "python"
  }
 },
 "nbformat": 4,
 "nbformat_minor": 5
}
