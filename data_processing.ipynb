{
 "cells": [
  {
   "cell_type": "markdown",
   "id": "4fb403ca",
   "metadata": {},
   "source": [
    "## Imports"
   ]
  },
  {
   "cell_type": "code",
   "execution_count": 1,
   "id": "30a3a29f",
   "metadata": {},
   "outputs": [
    {
     "name": "stderr",
     "output_type": "stream",
     "text": [
      "c:\\Users\\bxchi\\OneDrive\\Desktop\\Stuff\\Year 4 Sem 1\\DSA4213\\Assignments\\Assignment 2\\venv\\Lib\\site-packages\\tqdm\\auto.py:21: TqdmWarning: IProgress not found. Please update jupyter and ipywidgets. See https://ipywidgets.readthedocs.io/en/stable/user_install.html\n",
      "  from .autonotebook import tqdm as notebook_tqdm\n",
      "[nltk_data] Downloading package reuters to\n",
      "[nltk_data]     C:\\Users\\bxchi\\AppData\\Roaming\\nltk_data...\n",
      "[nltk_data]   Package reuters is already up-to-date!\n",
      "[nltk_data] Downloading package punkt to\n",
      "[nltk_data]     C:\\Users\\bxchi\\AppData\\Roaming\\nltk_data...\n",
      "[nltk_data]   Package punkt is already up-to-date!\n",
      "[nltk_data] Downloading package punkt_tab to\n",
      "[nltk_data]     C:\\Users\\bxchi\\AppData\\Roaming\\nltk_data...\n",
      "[nltk_data]   Package punkt_tab is already up-to-date!\n"
     ]
    }
   ],
   "source": [
    "from src.data_processing import get_and_split_data, process_and_format_docs_to_ids\n",
    "import numpy as np\n",
    "import os\n",
    "import pickle\n",
    "import random\n",
    "import torch"
   ]
  },
  {
   "cell_type": "markdown",
   "id": "e2f93a92",
   "metadata": {},
   "source": [
    "## Setup"
   ]
  },
  {
   "cell_type": "code",
   "execution_count": 2,
   "id": "925ab66d",
   "metadata": {},
   "outputs": [],
   "source": [
    "# Set seeds\n",
    "seed = 42\n",
    "torch.manual_seed(seed)\n",
    "torch.cuda.manual_seed(seed)\n",
    "torch.cuda.manual_seed_all(seed)\n",
    "torch.backends.cudnn.deterministic = True\n",
    "torch.backends.cudnn.benchmark = False\n",
    "torch.backends.cudnn.enabled = False\n",
    "random.seed(seed)\n",
    "np.random.seed(seed)"
   ]
  },
  {
   "cell_type": "markdown",
   "id": "cb926591",
   "metadata": {},
   "source": [
    "## Getting the Data (Reuters)"
   ]
  },
  {
   "cell_type": "code",
   "execution_count": 3,
   "id": "45b0e56a",
   "metadata": {},
   "outputs": [],
   "source": [
    "# Adjust the dataset to the dataset size and train-val-test split required\n",
    "DATASET_SIZE = 5000\n",
    "TRAIN_SPLIT = 0.8\n",
    "VAL_SPLIT = 0.1"
   ]
  },
  {
   "cell_type": "code",
   "execution_count": 4,
   "id": "5903f5d8",
   "metadata": {},
   "outputs": [
    {
     "name": "stdout",
     "output_type": "stream",
     "text": [
      "Total number of documents: 10788\n",
      "New train size: 4000\n",
      "New validation size: 500\n",
      "New test size: 500\n"
     ]
    }
   ],
   "source": [
    "docs_splits = get_and_split_data(full_dataset_size=DATASET_SIZE, train_split=TRAIN_SPLIT, val_split=VAL_SPLIT, seed=seed)"
   ]
  },
  {
   "cell_type": "markdown",
   "id": "aaaaa15c",
   "metadata": {},
   "source": [
    "## Data Processing"
   ]
  },
  {
   "cell_type": "markdown",
   "id": "28bcf36c",
   "metadata": {},
   "source": [
    "### Tokenisation by Word"
   ]
  },
  {
   "cell_type": "code",
   "execution_count": 5,
   "id": "f9f2a86a",
   "metadata": {},
   "outputs": [
    {
     "name": "stdout",
     "output_type": "stream",
     "text": [
      "Training vocabulary size: 22087\n"
     ]
    }
   ],
   "source": [
    "word_tokenised_numericalised_docs, word_tokenisation_train_vocab = process_and_format_docs_to_ids(docs_splits=docs_splits, using_subword=False)"
   ]
  },
  {
   "cell_type": "markdown",
   "id": "c26b95a3",
   "metadata": {},
   "source": [
    "### Tokenisation by Subword"
   ]
  },
  {
   "cell_type": "code",
   "execution_count": 6,
   "id": "0e36ee5e",
   "metadata": {},
   "outputs": [
    {
     "name": "stdout",
     "output_type": "stream",
     "text": [
      "Training vocabulary size: 16079\n"
     ]
    }
   ],
   "source": [
    "subword_tokenised_numericalised_docs, subword_tokenisation_train_vocab = process_and_format_docs_to_ids(docs_splits=docs_splits, using_subword=True)"
   ]
  },
  {
   "cell_type": "markdown",
   "id": "36050ddd",
   "metadata": {},
   "source": [
    "## Save Data"
   ]
  },
  {
   "cell_type": "code",
   "execution_count": 7,
   "id": "49e55e43",
   "metadata": {},
   "outputs": [],
   "source": [
    "# Create data folder\n",
    "os.makedirs(\"data\", exist_ok=True)\n",
    "\n",
    "with open(os.path.normpath(os.path.join(\"data\", f\"word_tokenisation_reuters_data.pkl\")), \"wb\") as f:\n",
    "    pickle.dump(word_tokenised_numericalised_docs, f)\n",
    "\n",
    "with open(os.path.normpath(os.path.join(\"data\", f\"word_tokenisation_reuters_train_vocab.pkl\")), \"wb\") as f:\n",
    "    pickle.dump(word_tokenisation_train_vocab, f)\n",
    "\n",
    "with open(os.path.normpath(os.path.join(\"data\", f\"subword_tokenisation_reuters_data.pkl\")), \"wb\") as f:\n",
    "    pickle.dump(subword_tokenised_numericalised_docs, f)\n",
    "\n",
    "with open(os.path.normpath(os.path.join(\"data\", f\"subword_tokenisation_reuters_train_vocab.pkl\")), \"wb\") as f:\n",
    "    pickle.dump(subword_tokenisation_train_vocab, f)"
   ]
  }
 ],
 "metadata": {
  "kernelspec": {
   "display_name": "venv",
   "language": "python",
   "name": "python3"
  },
  "language_info": {
   "codemirror_mode": {
    "name": "ipython",
    "version": 3
   },
   "file_extension": ".py",
   "mimetype": "text/x-python",
   "name": "python",
   "nbconvert_exporter": "python",
   "pygments_lexer": "ipython3",
   "version": "3.13.5"
  }
 },
 "nbformat": 4,
 "nbformat_minor": 5
}
